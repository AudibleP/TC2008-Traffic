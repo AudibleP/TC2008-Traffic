{
 "cells": [
  {
   "cell_type": "markdown",
   "id": "ff0b354a",
   "metadata": {},
   "source": [
    "Importamos la librerias"
   ]
  },
  {
   "cell_type": "code",
   "execution_count": 1,
   "id": "f94e28b4",
   "metadata": {},
   "outputs": [],
   "source": [
    "from mesa import Agent, Model\n",
    "from mesa.time import SimultaneousActivation\n",
    "from mesa.space import SingleGrid\n",
    "from mesa.datacollection import DataCollector\n",
    "from mesa.batchrunner import BatchRunner\n",
    "\n",
    "# matplotlib lo vamos a utilizar para realizar una ''animación'' de mi modelo.\n",
    "import matplotlib\n",
    "import matplotlib.pyplot as plt\n",
    "import matplotlib.animation as animation\n",
    "plt.rcParams[\"animation.html\"] = \"jshtml\"\n",
    "matplotlib.rcParams['animation.embed_limit'] = 2**128\n",
    "\n",
    "import numpy as np\n",
    "import pandas as pd\n",
    "\n",
    "# Definimos otros paquete que vamos a usar para medir el tiempo de ejecución del modelo\n",
    "import time\n",
    "import datetime\n",
    "import random\n",
    "\n",
    "from flask import Flask, json"
   ]
  },
  {
   "cell_type": "code",
   "execution_count": null,
   "id": "54891a0c",
   "metadata": {},
   "outputs": [],
   "source": []
  },
  {
   "cell_type": "code",
   "execution_count": 2,
   "id": "d878ef6e",
   "metadata": {},
   "outputs": [],
   "source": [
    "def get_grid(model):\n",
    "    grid = np.zeros((model.grid.height, model.grid.width))\n",
    "    for ren in range(model.grid.height):\n",
    "        for col in range(model.grid.width):\n",
    "            if model.grid.is_cell_empty((col, ren)):\n",
    "                grid[ren][col] = 0\n",
    "            else:\n",
    "                grid[ren][col] = 1\n",
    "            \n",
    "    return grid"
   ]
  },
  {
   "cell_type": "code",
   "execution_count": 3,
   "id": "c853e220",
   "metadata": {},
   "outputs": [],
   "source": [
    "def get_pos(agent):\n",
    "    return [agent.my_id,agent.x,agent.y]"
   ]
  },
  {
   "cell_type": "markdown",
   "id": "86585ca2",
   "metadata": {},
   "source": [
    "Definimos el agente "
   ]
  },
  {
   "cell_type": "code",
   "execution_count": 4,
   "id": "5ba67a5f",
   "metadata": {},
   "outputs": [],
   "source": [
    "class CarAgent(Agent):\n",
    "    def __init__(self, unique_id, model,x,y,state, line):\n",
    "        super().__init__(unique_id, model)\n",
    "        self.my_id=unique_id\n",
    "        #Position\n",
    "        self.x=int(x)\n",
    "        self.y=int(y)\n",
    "        #Velocity\n",
    "        self.xvelocity=0\n",
    "        self.yvelocity=model.speedWayVelocity\n",
    "        self.visionRange=4\n",
    "        #States : stop , go , change\n",
    "        self.state=state\n",
    "        #Valor de x al que tienes que ir\n",
    "        self.line=line\n",
    "    \n",
    "        \n",
    "    def move(self):\n",
    "        print(\"Moving Car %i from (%i,%i) to (%i,%i) velocity= (%i,%i)\"%(self.my_id,self.x,self.y,int(self.xvelocity+self.x),int(self.yvelocity+self.y),self.xvelocity,self.yvelocity))\n",
    "        self.y=int(self.yvelocity+self.y)\n",
    "        self.x=int(self.x+self.xvelocity)\n",
    "        self.model.grid.move_agent(self, (self.x,self.y))\n",
    "        \n",
    "    def canCrash(self):\n",
    "        limit=int(self.y+self.visionRange*self.yvelocity)\n",
    "        #print(\"Range %f\" % (self.visionRange*self.yvelocity))\n",
    "        position = []\n",
    "        \n",
    "        for i in range(self.y + 1,limit):\n",
    "            newpos=(self.x, i)\n",
    "            if(self.model.grid.out_of_bounds(newpos)):\n",
    "                break\n",
    "            position.append(newpos)\n",
    "        #print(position)\n",
    "        #print(\"longitud\")\n",
    "        #print(len(self.model.grid.get_cell_list_contents(position)))\n",
    "        #print(self.model.grid.get_cell_list_contents(position))\n",
    "        #print(\"POSITION\")\n",
    "        #print(position)\n",
    "        return (len(self.model.grid.get_cell_list_contents(position))>0)\n",
    "        \n",
    "    \n",
    "    def brake(self):\n",
    "        self.xvelocity=int(self.xvelocity/2)\n",
    "        self.yvelocity=int(self.yvelocity/2)\n",
    "        \n",
    "    def auxReviewLine(self,xvalue):\n",
    "        dist=model.speedWayVelocity\n",
    "        backMargin=20\n",
    "        frontMargin=20\n",
    "        position = []\n",
    "        for i in range(int(self.y-backMargin), int( self.y + frontMargin)):\n",
    "            newpos=(xvalue, i)\n",
    "            if(model.grid.out_of_bounds(newpos)):\n",
    "                break\n",
    "            position.append(newpos)\n",
    "        return (len(self.model.grid.get_cell_list_contents(position))==0)\n",
    "            \n",
    "    def chooseLine(self):\n",
    "        left=0\n",
    "        right=0\n",
    "        myIndexLine=0\n",
    "        #print(\"Current line %i\"%self.line)\n",
    "        for i in range(len(model.lines)):\n",
    "            if(model.lines[i]==self.line):\n",
    "                myIndexLine=i\n",
    "                #print(\"Idenx found %i\"%i)\n",
    "                break\n",
    "                \n",
    "        if(myIndexLine!=2):\n",
    "            right=self.auxReviewLine(model.lines[myIndexLine+1])\n",
    "        if(myIndexLine!=0):\n",
    "            left=self.auxReviewLine(model.lines[myIndexLine-1])\n",
    "        if(left and right):\n",
    "            if(np.random.random(1)[0]<=0.5):\n",
    "                print(\"RANDOM CHOOSE LEFT x= %i\"%model.lines[myIndexLine-1])\n",
    "                return model.lines[myIndexLine-1]\n",
    "            else:\n",
    "                print(\"RANDOM CHOOSE RIHGT\")\n",
    "                print(\"RANDOM CHOOSE LEFT x= %i\"%model.lines[myIndexLine+1])\n",
    "                return model.lines[myIndexLine+1]\n",
    "        else:\n",
    "            if(left):\n",
    "                return model.lines[myIndexLine-1]\n",
    "            elif(right):\n",
    "                return model.lines[myIndexLine+1]\n",
    "        return 0\n",
    "    \n",
    "    def regulateVel(self,targetVel):\n",
    "        if(self.yvelocity == targetVel):\n",
    "            return\n",
    "        elif self.yvelocity >targetVel:\n",
    "            dif=self.yvelocity-targetVel\n",
    "            if dif<2:\n",
    "                self.yvelocity=targetVel\n",
    "            else:\n",
    "                self.yvelocity-=(2*dif/3) \n",
    "        elif self.yvelocity < targetVel:\n",
    "            dif=targetVel-self.yvelocity\n",
    "            if dif<2:\n",
    "                self.yvelocity=targetVel\n",
    "            else:\n",
    "                self.yvelocity +=(2*dif/3) \n",
    "                \n",
    "    def alignLine(self):\n",
    "        if(self.x == self.line):\n",
    "            self.xvelocity=0\n",
    "            return\n",
    "        elif(self.x<self.line):\n",
    "            self.xvelocity=1\n",
    "        elif(self.x>self.line):\n",
    "            self.xvelocity=1\n",
    "        \n",
    "\n",
    "    def step(self):\n",
    "        if (self.state==\"stop\"):\n",
    "            self.brake()\n",
    "        elif (self.state==\"go\"):\n",
    "            #self.regulateVel(model.speedWayVelocity)\n",
    "            self.alignLine()\n",
    "            if(self.canCrash()):\n",
    "                print(\"The car in the line %i Can Crash aahhh\"%self.line)\n",
    "                newLine=self.chooseLine()\n",
    "                print(\"NewLine Decision %i\"%newLine)\n",
    "\n",
    "                if(newLine != 0):\n",
    "                    self.state=\"changingLine\"\n",
    "                    print(\"CHANGING LINE %i to %i\"%(self.line,newLine))\n",
    "                    self.line=newLine\n",
    "                else:\n",
    "                    print(\"I can't change line, I'll brake\")\n",
    "                    self.brake()\n",
    "        elif (self.state==\"changingLine\"):\n",
    "            if(self.x == self.line):\n",
    "                print(\"CHANGE LINE SUCCESSFULL\")\n",
    "                self.state==\"go\"\n",
    "                self.xvelocity=0\n",
    "            elif(self.x<self.line):\n",
    "                self.xvelocity=5\n",
    "            elif(self.x>self.line):\n",
    "                self.xvelocity=-5\n",
    "            \n",
    "                    \n",
    "\n",
    "        #print(\"POS (%i,%i)\"%(self.x,self.y))\n",
    "        #print(\"VEL(%i,%i)\"%(self.xvelocity,self.yvelocity))\n",
    "       \n",
    "        self.move()\n",
    "\n",
    " "
   ]
  },
  {
   "cell_type": "markdown",
   "id": "c0b0b184",
   "metadata": {},
   "source": [
    "Definimos el modelo"
   ]
  },
  {
   "cell_type": "code",
   "execution_count": 5,
   "id": "07cc2811",
   "metadata": {},
   "outputs": [],
   "source": [
    "class highwayModel(Model):\n",
    "    def __init__(self,n, widht, height):\n",
    "        self.agentId=100;\n",
    "        self.num_agents = n\n",
    "        self.grid=SingleGrid(widht,height,True)\n",
    "        self.schedule = SimultaneousActivation(self)\n",
    "        self.lines=[20,50,80]\n",
    "        self.currentStep=0\n",
    "        \n",
    "        self.idCounter=0\n",
    "        \n",
    "        self.speedWayVelocity=6\n",
    "        #Generate Cars\n",
    "        self.generatorTime= 8\n",
    "        #numero de carros\n",
    "        self.numCarsGenerated = 2\n",
    "        #Incident\n",
    "        self.incidentStopCar=False\n",
    "        self.startIncident=20\n",
    "        self.time=0\n",
    "        \n",
    "        for i in range(self.num_agents):\n",
    "            # Add the agent to a random grid cell\n",
    "            x = self.random.randrange(self.grid.width)\n",
    "            y = self.random.randrange(self.grid.height)\n",
    "        \n",
    "            a = CarAgent(self.newId(), self,x,y,\"go\",20)\n",
    "            self.schedule.add(a)  \n",
    "            self.grid.place_agent(a, (x, y))\n",
    "        #self.createBarrier()\n",
    "        self.datacollector = DataCollector(model_reporters={\"Grid\": get_grid},agent_reporters={\"Positions\": get_pos})\n",
    "        \n",
    "    def newId(self):\n",
    "        self.idCounter+=1\n",
    "        return self.idCounter\n",
    "    \n",
    "    def deleteCarOutLimits(self):\n",
    "        ###  Cambiar este ciclo por recorrer la agenda\n",
    "        for (agent, x, y) in self.grid.coord_iter():\n",
    "            if not model.grid.is_cell_empty((x, y)):\n",
    "                #print(\"Car position (%i, %i)\"%(x,y))\n",
    "                if agent.x<0 or agent.x>=self.grid.width or agent.y<0 or agent.y>=self.grid.height:\n",
    "                    #print(\"Car with (%i, %i) is out of the limits\"%(x,y))\n",
    "                    self.grid.remove_agent(agent)\n",
    "                    self.schedule.remove(agent)\n",
    "                    #print(\"Car with (%i, %i) was deleted\"%(x,y))\n",
    "                \n",
    "    def generateNewCar(self,numCars,generatorTime):\n",
    "        \n",
    "        if( self.currentStep%generatorTime==2):\n",
    "            x=self.lines\n",
    "            random.shuffle(x)\n",
    "            #print(\"New car in %i %i\"%(x,0))\n",
    "            for i in range(numCars):\n",
    "                a = CarAgent(self.newId(), self,x[i] ,0,\"go\",x[i])\n",
    "                self.schedule.add(a)\n",
    "                self.grid.place_agent(a, (x[i], 0))\n",
    "    \n",
    "    def carPositionList(self):\n",
    "        positions=[]\n",
    "        for (agent, x, y) in self.grid.coord_iter():\n",
    "            if not self.grid.is_cell_empty((x, y)):\n",
    "                   positions.append([agent.my_id,x,y])\n",
    "        return positions\n",
    "                \n",
    "\n",
    "    def step(self):\n",
    "        self.datacollector.collect(self)\n",
    "        self.schedule.step()\n",
    "        timeStep=3\n",
    "        self.generateNewCar(self.numCarsGenerated,self.generatorTime)\n",
    "        self.currentStep+=1\n",
    "        self.deleteCarOutLimits()\n",
    "        self.stopCarIncident()\n",
    "        self.time+=1\n",
    "        #self.createBarrier()\n",
    "        \n",
    "    def createBarrier(self):\n",
    "        for x in range(self.grid.width):\n",
    "                a = CarAgent(self.newId(), self,x,int(self.grid.height-2/2),\"stop\",1)\n",
    "                self.grid.place_agent(a, (x,int(self.grid.height-2/2)))\n",
    "                \n",
    "    def stopCarIncident(self):\n",
    "        if(not self.incidentStopCar):\n",
    "            if self.currentStep>=self.startIncident:\n",
    "                lowerLimity=self.grid.height/4\n",
    "                upperLimity=3*self.grid.height/8\n",
    "                for (car, x, y) in self.grid.coord_iter():\n",
    "                    if not self.grid.is_cell_empty((x, y)) and car.y>=lowerLimity and car.y>=upperLimity:\n",
    "                        if(car.x==50):\n",
    "                            car.state=\"stop\"\n",
    "                            self.incidentStopCar=True\n",
    "                            break\n",
    "                        \n",
    "            \n",
    "        \n",
    "        \n",
    "    "
   ]
  },
  {
   "cell_type": "code",
   "execution_count": 6,
   "id": "cb4241f1",
   "metadata": {
    "scrolled": false
   },
   "outputs": [
    {
     "data": {
      "text/plain": [
       "'\\nfor i in range (MAX_GENERATION):\\n    print(\"STEP %i\"%i)\\n    model.step()\\n    '"
      ]
     },
     "execution_count": 6,
     "metadata": {},
     "output_type": "execute_result"
    }
   ],
   "source": [
    "GRID_WIDTH= 100\n",
    "GRID_HIGHT= 200\n",
    "MAX_GENERATION= 5\n",
    "NUM_CARS=1\n",
    "model=highwayModel(NUM_CARS,GRID_WIDTH,GRID_HIGHT)\n",
    "\"\"\"\n",
    "for i in range (MAX_GENERATION):\n",
    "    print(\"STEP %i\"%i)\n",
    "    model.step()\n",
    "    \"\"\"\n",
    "\n",
    "    \n"
   ]
  },
  {
   "cell_type": "code",
   "execution_count": 7,
   "id": "768089c9",
   "metadata": {},
   "outputs": [],
   "source": [
    "all_grid = model.datacollector.get_model_vars_dataframe()"
   ]
  },
  {
   "cell_type": "markdown",
   "id": "0328791d",
   "metadata": {},
   "source": [
    "Graficar la informacion"
   ]
  },
  {
   "cell_type": "code",
   "execution_count": 8,
   "id": "7351aee5",
   "metadata": {},
   "outputs": [
    {
     "data": {
      "text/plain": [
       "[[1, 7, 53]]"
      ]
     },
     "execution_count": 8,
     "metadata": {},
     "output_type": "execute_result"
    }
   ],
   "source": [
    "model.carPositionList()"
   ]
  },
  {
   "cell_type": "code",
   "execution_count": null,
   "id": "f9109f17",
   "metadata": {},
   "outputs": [],
   "source": []
  },
  {
   "cell_type": "code",
   "execution_count": 9,
   "id": "e61989aa",
   "metadata": {},
   "outputs": [],
   "source": [
    "def handleStep():\n",
    "    newList=model.carPositionList()\n",
    "    model.step()\n",
    "    n=model.time\n",
    "    #return {\"time\":n,\"companiesList\":companies, \"state\":\"Mexico\"}\n",
    "    return json.dumps({\"NewList\":newList, \"id\":n})"
   ]
  },
  {
   "cell_type": "code",
   "execution_count": null,
   "id": "fb46bd7f",
   "metadata": {},
   "outputs": [],
   "source": []
  },
  {
   "cell_type": "code",
   "execution_count": null,
   "id": "8662e05f",
   "metadata": {},
   "outputs": [
    {
     "name": "stdout",
     "output_type": "stream",
     "text": [
      " * Serving Flask app '__main__'\n",
      " * Debug mode: off\n"
     ]
    },
    {
     "name": "stderr",
     "output_type": "stream",
     "text": [
      "WARNING: This is a development server. Do not use it in a production deployment. Use a production WSGI server instead.\n",
      " * Running on http://127.0.0.1:5000\n",
      "Press CTRL+C to quit\n",
      "127.0.0.1 - - [28/Nov/2022 12:26:53] \"GET /position HTTP/1.1\" 200 -\n"
     ]
    },
    {
     "name": "stdout",
     "output_type": "stream",
     "text": [
      "Moving Car 1 from (7,53) to (8,59) velocity= (1,6)\n"
     ]
    },
    {
     "name": "stderr",
     "output_type": "stream",
     "text": [
      "127.0.0.1 - - [28/Nov/2022 12:26:56] \"GET /position HTTP/1.1\" 200 -\n"
     ]
    },
    {
     "name": "stdout",
     "output_type": "stream",
     "text": [
      "Moving Car 1 from (8,59) to (9,65) velocity= (1,6)\n"
     ]
    },
    {
     "name": "stderr",
     "output_type": "stream",
     "text": [
      "127.0.0.1 - - [28/Nov/2022 12:26:57] \"GET /position HTTP/1.1\" 200 -\n"
     ]
    },
    {
     "name": "stdout",
     "output_type": "stream",
     "text": [
      "Moving Car 1 from (9,65) to (10,71) velocity= (1,6)\n"
     ]
    },
    {
     "name": "stderr",
     "output_type": "stream",
     "text": [
      "127.0.0.1 - - [28/Nov/2022 12:26:58] \"GET /position HTTP/1.1\" 200 -\n"
     ]
    },
    {
     "name": "stdout",
     "output_type": "stream",
     "text": [
      "Moving Car 1 from (10,71) to (11,77) velocity= (1,6)\n",
      "Moving Car 2 from (80,0) to (80,6) velocity= (0,6)\n",
      "Moving Car 3 from (20,0) to (20,6) velocity= (0,6)\n"
     ]
    },
    {
     "name": "stderr",
     "output_type": "stream",
     "text": [
      "127.0.0.1 - - [28/Nov/2022 12:27:00] \"GET /position HTTP/1.1\" 200 -\n"
     ]
    },
    {
     "name": "stdout",
     "output_type": "stream",
     "text": [
      "Moving Car 1 from (11,77) to (12,83) velocity= (1,6)\n",
      "Moving Car 2 from (80,6) to (80,12) velocity= (0,6)\n",
      "Moving Car 3 from (20,6) to (20,12) velocity= (0,6)\n"
     ]
    },
    {
     "name": "stderr",
     "output_type": "stream",
     "text": [
      "127.0.0.1 - - [28/Nov/2022 12:27:01] \"GET /position HTTP/1.1\" 200 -\n"
     ]
    },
    {
     "name": "stdout",
     "output_type": "stream",
     "text": [
      "Moving Car 1 from (12,83) to (13,89) velocity= (1,6)\n",
      "Moving Car 2 from (80,12) to (80,18) velocity= (0,6)\n",
      "Moving Car 3 from (20,12) to (20,18) velocity= (0,6)\n"
     ]
    },
    {
     "name": "stderr",
     "output_type": "stream",
     "text": [
      "127.0.0.1 - - [28/Nov/2022 12:27:02] \"GET /position HTTP/1.1\" 200 -\n"
     ]
    },
    {
     "name": "stdout",
     "output_type": "stream",
     "text": [
      "Moving Car 1 from (13,89) to (14,95) velocity= (1,6)\n",
      "Moving Car 2 from (80,18) to (80,24) velocity= (0,6)\n",
      "Moving Car 3 from (20,18) to (20,24) velocity= (0,6)\n"
     ]
    },
    {
     "name": "stderr",
     "output_type": "stream",
     "text": [
      "127.0.0.1 - - [28/Nov/2022 12:27:03] \"GET /position HTTP/1.1\" 200 -\n"
     ]
    },
    {
     "name": "stdout",
     "output_type": "stream",
     "text": [
      "Moving Car 1 from (14,95) to (15,101) velocity= (1,6)\n",
      "Moving Car 2 from (80,24) to (80,30) velocity= (0,6)\n",
      "Moving Car 3 from (20,24) to (20,30) velocity= (0,6)\n"
     ]
    },
    {
     "name": "stderr",
     "output_type": "stream",
     "text": [
      "127.0.0.1 - - [28/Nov/2022 12:27:04] \"GET /position HTTP/1.1\" 200 -\n"
     ]
    },
    {
     "name": "stdout",
     "output_type": "stream",
     "text": [
      "Moving Car 1 from (15,101) to (16,107) velocity= (1,6)\n",
      "Moving Car 2 from (80,30) to (80,36) velocity= (0,6)\n",
      "Moving Car 3 from (20,30) to (20,36) velocity= (0,6)\n"
     ]
    },
    {
     "name": "stderr",
     "output_type": "stream",
     "text": [
      "127.0.0.1 - - [28/Nov/2022 12:27:04] \"GET /position HTTP/1.1\" 200 -\n"
     ]
    },
    {
     "name": "stdout",
     "output_type": "stream",
     "text": [
      "Moving Car 1 from (16,107) to (17,113) velocity= (1,6)\n",
      "Moving Car 2 from (80,36) to (80,42) velocity= (0,6)\n",
      "Moving Car 3 from (20,36) to (20,42) velocity= (0,6)\n"
     ]
    },
    {
     "name": "stderr",
     "output_type": "stream",
     "text": [
      "127.0.0.1 - - [28/Nov/2022 12:27:05] \"GET /position HTTP/1.1\" 200 -\n"
     ]
    },
    {
     "name": "stdout",
     "output_type": "stream",
     "text": [
      "Moving Car 1 from (17,113) to (18,119) velocity= (1,6)\n",
      "Moving Car 2 from (80,42) to (80,48) velocity= (0,6)\n",
      "Moving Car 3 from (20,42) to (20,48) velocity= (0,6)\n"
     ]
    },
    {
     "name": "stderr",
     "output_type": "stream",
     "text": [
      "127.0.0.1 - - [28/Nov/2022 12:27:06] \"GET /position HTTP/1.1\" 200 -\n"
     ]
    },
    {
     "name": "stdout",
     "output_type": "stream",
     "text": [
      "Moving Car 1 from (18,119) to (19,125) velocity= (1,6)\n",
      "Moving Car 2 from (80,48) to (80,54) velocity= (0,6)\n",
      "Moving Car 3 from (20,48) to (20,54) velocity= (0,6)\n",
      "Moving Car 4 from (80,0) to (80,6) velocity= (0,6)\n",
      "Moving Car 5 from (50,0) to (50,6) velocity= (0,6)\n"
     ]
    },
    {
     "name": "stderr",
     "output_type": "stream",
     "text": [
      "127.0.0.1 - - [28/Nov/2022 12:27:06] \"GET /position HTTP/1.1\" 200 -\n"
     ]
    },
    {
     "name": "stdout",
     "output_type": "stream",
     "text": [
      "Moving Car 1 from (19,125) to (20,131) velocity= (1,6)\n",
      "Moving Car 2 from (80,54) to (80,60) velocity= (0,6)\n",
      "Moving Car 3 from (20,54) to (20,60) velocity= (0,6)\n",
      "Moving Car 4 from (80,6) to (80,12) velocity= (0,6)\n",
      "Moving Car 5 from (50,6) to (50,12) velocity= (0,6)\n"
     ]
    },
    {
     "name": "stderr",
     "output_type": "stream",
     "text": [
      "127.0.0.1 - - [28/Nov/2022 12:27:07] \"GET /position HTTP/1.1\" 200 -\n"
     ]
    },
    {
     "name": "stdout",
     "output_type": "stream",
     "text": [
      "Moving Car 1 from (20,131) to (20,137) velocity= (0,6)\n",
      "Moving Car 2 from (80,60) to (80,66) velocity= (0,6)\n",
      "Moving Car 3 from (20,60) to (20,66) velocity= (0,6)\n",
      "Moving Car 4 from (80,12) to (80,18) velocity= (0,6)\n",
      "Moving Car 5 from (50,12) to (50,18) velocity= (0,6)\n"
     ]
    },
    {
     "name": "stderr",
     "output_type": "stream",
     "text": [
      "127.0.0.1 - - [28/Nov/2022 12:27:07] \"GET /position HTTP/1.1\" 200 -\n"
     ]
    },
    {
     "name": "stdout",
     "output_type": "stream",
     "text": [
      "Moving Car 1 from (20,137) to (20,143) velocity= (0,6)\n",
      "Moving Car 2 from (80,66) to (80,72) velocity= (0,6)\n",
      "Moving Car 3 from (20,66) to (20,72) velocity= (0,6)\n",
      "Moving Car 4 from (80,18) to (80,24) velocity= (0,6)\n",
      "Moving Car 5 from (50,18) to (50,24) velocity= (0,6)\n"
     ]
    },
    {
     "name": "stderr",
     "output_type": "stream",
     "text": [
      "127.0.0.1 - - [28/Nov/2022 12:27:08] \"GET /position HTTP/1.1\" 200 -\n"
     ]
    },
    {
     "name": "stdout",
     "output_type": "stream",
     "text": [
      "Moving Car 1 from (20,143) to (20,149) velocity= (0,6)\n",
      "Moving Car 2 from (80,72) to (80,78) velocity= (0,6)\n",
      "Moving Car 3 from (20,72) to (20,78) velocity= (0,6)\n",
      "Moving Car 4 from (80,24) to (80,30) velocity= (0,6)\n",
      "Moving Car 5 from (50,24) to (50,30) velocity= (0,6)\n"
     ]
    },
    {
     "name": "stderr",
     "output_type": "stream",
     "text": [
      "127.0.0.1 - - [28/Nov/2022 12:27:08] \"GET /position HTTP/1.1\" 200 -\n"
     ]
    },
    {
     "name": "stdout",
     "output_type": "stream",
     "text": [
      "Moving Car 1 from (20,149) to (20,155) velocity= (0,6)\n",
      "Moving Car 2 from (80,78) to (80,84) velocity= (0,6)\n",
      "Moving Car 3 from (20,78) to (20,84) velocity= (0,6)\n",
      "Moving Car 4 from (80,30) to (80,36) velocity= (0,6)\n",
      "Moving Car 5 from (50,30) to (50,36) velocity= (0,6)\n"
     ]
    },
    {
     "name": "stderr",
     "output_type": "stream",
     "text": [
      "127.0.0.1 - - [28/Nov/2022 12:27:09] \"GET /position HTTP/1.1\" 200 -\n"
     ]
    },
    {
     "name": "stdout",
     "output_type": "stream",
     "text": [
      "Moving Car 1 from (20,155) to (20,161) velocity= (0,6)\n",
      "Moving Car 2 from (80,84) to (80,90) velocity= (0,6)\n",
      "Moving Car 3 from (20,84) to (20,90) velocity= (0,6)\n",
      "Moving Car 4 from (80,36) to (80,42) velocity= (0,6)\n",
      "Moving Car 5 from (50,36) to (50,42) velocity= (0,6)\n"
     ]
    },
    {
     "name": "stderr",
     "output_type": "stream",
     "text": [
      "127.0.0.1 - - [28/Nov/2022 12:27:09] \"GET /position HTTP/1.1\" 200 -\n"
     ]
    },
    {
     "name": "stdout",
     "output_type": "stream",
     "text": [
      "Moving Car 1 from (20,161) to (20,167) velocity= (0,6)\n",
      "Moving Car 2 from (80,90) to (80,96) velocity= (0,6)\n",
      "Moving Car 3 from (20,90) to (20,96) velocity= (0,6)\n",
      "Moving Car 4 from (80,42) to (80,48) velocity= (0,6)\n",
      "Moving Car 5 from (50,42) to (50,48) velocity= (0,6)\n"
     ]
    },
    {
     "name": "stderr",
     "output_type": "stream",
     "text": [
      "127.0.0.1 - - [28/Nov/2022 12:27:09] \"GET /position HTTP/1.1\" 200 -\n"
     ]
    },
    {
     "name": "stdout",
     "output_type": "stream",
     "text": [
      "Moving Car 1 from (20,167) to (20,173) velocity= (0,6)\n",
      "Moving Car 2 from (80,96) to (80,102) velocity= (0,6)\n",
      "Moving Car 3 from (20,96) to (20,102) velocity= (0,6)\n",
      "Moving Car 4 from (80,48) to (80,54) velocity= (0,6)\n",
      "Moving Car 5 from (50,48) to (50,54) velocity= (0,6)\n",
      "Moving Car 6 from (50,0) to (50,6) velocity= (0,6)\n",
      "Moving Car 7 from (80,0) to (80,6) velocity= (0,6)\n"
     ]
    },
    {
     "name": "stderr",
     "output_type": "stream",
     "text": [
      "127.0.0.1 - - [28/Nov/2022 12:27:10] \"GET /position HTTP/1.1\" 200 -\n"
     ]
    },
    {
     "name": "stdout",
     "output_type": "stream",
     "text": [
      "Moving Car 1 from (20,173) to (20,179) velocity= (0,6)\n",
      "Moving Car 2 from (80,102) to (80,108) velocity= (0,6)\n",
      "Moving Car 3 from (20,102) to (20,108) velocity= (0,6)\n",
      "Moving Car 4 from (80,54) to (80,60) velocity= (0,6)\n",
      "Moving Car 5 from (50,54) to (50,60) velocity= (0,6)\n",
      "Moving Car 6 from (50,6) to (50,12) velocity= (0,6)\n",
      "Moving Car 7 from (80,6) to (80,12) velocity= (0,6)\n"
     ]
    },
    {
     "name": "stderr",
     "output_type": "stream",
     "text": [
      "127.0.0.1 - - [28/Nov/2022 12:27:10] \"GET /position HTTP/1.1\" 200 -\n"
     ]
    },
    {
     "name": "stdout",
     "output_type": "stream",
     "text": [
      "Moving Car 1 from (20,179) to (20,185) velocity= (0,6)\n",
      "Moving Car 2 from (80,108) to (80,114) velocity= (0,6)\n",
      "Moving Car 3 from (20,108) to (20,114) velocity= (0,6)\n",
      "Moving Car 4 from (80,60) to (80,66) velocity= (0,6)\n",
      "Moving Car 5 from (50,60) to (50,66) velocity= (0,6)\n",
      "Moving Car 6 from (50,12) to (50,18) velocity= (0,6)\n",
      "Moving Car 7 from (80,12) to (80,18) velocity= (0,6)\n"
     ]
    },
    {
     "name": "stderr",
     "output_type": "stream",
     "text": [
      "127.0.0.1 - - [28/Nov/2022 12:27:11] \"GET /position HTTP/1.1\" 200 -\n"
     ]
    },
    {
     "name": "stdout",
     "output_type": "stream",
     "text": [
      "Moving Car 1 from (20,185) to (20,191) velocity= (0,6)\n",
      "Moving Car 2 from (80,114) to (80,120) velocity= (0,6)\n",
      "Moving Car 3 from (20,114) to (20,120) velocity= (0,6)\n",
      "Moving Car 4 from (80,66) to (80,72) velocity= (0,6)\n",
      "Moving Car 5 from (50,66) to (50,72) velocity= (0,6)\n",
      "Moving Car 6 from (50,18) to (50,24) velocity= (0,6)\n",
      "Moving Car 7 from (80,18) to (80,24) velocity= (0,6)\n"
     ]
    },
    {
     "name": "stderr",
     "output_type": "stream",
     "text": [
      "127.0.0.1 - - [28/Nov/2022 12:27:11] \"GET /position HTTP/1.1\" 200 -\n"
     ]
    },
    {
     "name": "stdout",
     "output_type": "stream",
     "text": [
      "Moving Car 1 from (20,191) to (20,197) velocity= (0,6)\n",
      "Moving Car 2 from (80,120) to (80,126) velocity= (0,6)\n",
      "Moving Car 3 from (20,120) to (20,126) velocity= (0,6)\n",
      "Moving Car 4 from (80,72) to (80,78) velocity= (0,6)\n",
      "Moving Car 5 from (50,72) to (50,78) velocity= (0,6)\n",
      "Moving Car 6 from (50,24) to (50,30) velocity= (0,6)\n",
      "Moving Car 7 from (80,24) to (80,30) velocity= (0,6)\n"
     ]
    },
    {
     "name": "stderr",
     "output_type": "stream",
     "text": [
      "127.0.0.1 - - [28/Nov/2022 12:27:11] \"GET /position HTTP/1.1\" 200 -\n"
     ]
    },
    {
     "name": "stdout",
     "output_type": "stream",
     "text": [
      "Moving Car 1 from (20,197) to (20,203) velocity= (0,6)\n",
      "Moving Car 2 from (80,126) to (80,132) velocity= (0,6)\n",
      "Moving Car 3 from (20,126) to (20,132) velocity= (0,6)\n",
      "Moving Car 4 from (80,78) to (80,84) velocity= (0,6)\n",
      "Moving Car 5 from (50,78) to (50,81) velocity= (0,3)\n",
      "Moving Car 6 from (50,30) to (50,36) velocity= (0,6)\n",
      "Moving Car 7 from (80,30) to (80,36) velocity= (0,6)\n"
     ]
    },
    {
     "name": "stderr",
     "output_type": "stream",
     "text": [
      "127.0.0.1 - - [28/Nov/2022 12:27:11] \"GET /position HTTP/1.1\" 200 -\n"
     ]
    },
    {
     "name": "stdout",
     "output_type": "stream",
     "text": [
      "Moving Car 2 from (80,132) to (80,138) velocity= (0,6)\n",
      "Moving Car 3 from (20,132) to (20,138) velocity= (0,6)\n",
      "Moving Car 4 from (80,84) to (80,90) velocity= (0,6)\n",
      "Moving Car 5 from (50,81) to (50,82) velocity= (0,1)\n",
      "Moving Car 6 from (50,36) to (50,42) velocity= (0,6)\n",
      "Moving Car 7 from (80,36) to (80,42) velocity= (0,6)\n"
     ]
    },
    {
     "name": "stderr",
     "output_type": "stream",
     "text": [
      "127.0.0.1 - - [28/Nov/2022 12:27:12] \"GET /position HTTP/1.1\" 200 -\n"
     ]
    },
    {
     "name": "stdout",
     "output_type": "stream",
     "text": [
      "Moving Car 2 from (80,138) to (80,144) velocity= (0,6)\n",
      "Moving Car 3 from (20,138) to (20,144) velocity= (0,6)\n",
      "Moving Car 4 from (80,90) to (80,96) velocity= (0,6)\n",
      "Moving Car 5 from (50,82) to (50,82) velocity= (0,0)\n",
      "Moving Car 6 from (50,42) to (50,48) velocity= (0,6)\n",
      "Moving Car 7 from (80,42) to (80,48) velocity= (0,6)\n"
     ]
    },
    {
     "name": "stderr",
     "output_type": "stream",
     "text": [
      "127.0.0.1 - - [28/Nov/2022 12:27:12] \"GET /position HTTP/1.1\" 200 -\n"
     ]
    },
    {
     "name": "stdout",
     "output_type": "stream",
     "text": [
      "Moving Car 2 from (80,144) to (80,150) velocity= (0,6)\n",
      "Moving Car 3 from (20,144) to (20,150) velocity= (0,6)\n",
      "Moving Car 4 from (80,96) to (80,102) velocity= (0,6)\n",
      "Moving Car 5 from (50,82) to (50,82) velocity= (0,0)\n",
      "Moving Car 6 from (50,48) to (50,54) velocity= (0,6)\n",
      "Moving Car 7 from (80,48) to (80,54) velocity= (0,6)\n",
      "Moving Car 8 from (20,0) to (20,6) velocity= (0,6)\n",
      "Moving Car 9 from (80,0) to (80,6) velocity= (0,6)\n"
     ]
    },
    {
     "name": "stderr",
     "output_type": "stream",
     "text": [
      "127.0.0.1 - - [28/Nov/2022 12:27:12] \"GET /position HTTP/1.1\" 200 -\n"
     ]
    },
    {
     "name": "stdout",
     "output_type": "stream",
     "text": [
      "Moving Car 2 from (80,150) to (80,156) velocity= (0,6)\n",
      "Moving Car 3 from (20,150) to (20,156) velocity= (0,6)\n",
      "Moving Car 4 from (80,102) to (80,108) velocity= (0,6)\n",
      "Moving Car 5 from (50,82) to (50,82) velocity= (0,0)\n",
      "Moving Car 6 from (50,54) to (50,60) velocity= (0,6)\n",
      "Moving Car 7 from (80,54) to (80,60) velocity= (0,6)\n",
      "Moving Car 8 from (20,6) to (20,12) velocity= (0,6)\n",
      "Moving Car 9 from (80,6) to (80,12) velocity= (0,6)\n"
     ]
    },
    {
     "name": "stderr",
     "output_type": "stream",
     "text": [
      "127.0.0.1 - - [28/Nov/2022 12:27:13] \"GET /position HTTP/1.1\" 200 -\n"
     ]
    },
    {
     "name": "stdout",
     "output_type": "stream",
     "text": [
      "Moving Car 2 from (80,156) to (80,162) velocity= (0,6)\n",
      "Moving Car 3 from (20,156) to (20,162) velocity= (0,6)\n",
      "Moving Car 4 from (80,108) to (80,114) velocity= (0,6)\n",
      "Moving Car 5 from (50,82) to (50,82) velocity= (0,0)\n",
      "The car in the line 50 Can Crash aahhh\n",
      "NewLine Decision 0\n",
      "I can't change line, I'll brake\n",
      "Moving Car 6 from (50,60) to (50,63) velocity= (0,3)\n",
      "Moving Car 7 from (80,60) to (80,66) velocity= (0,6)\n",
      "Moving Car 8 from (20,12) to (20,18) velocity= (0,6)\n",
      "Moving Car 9 from (80,12) to (80,18) velocity= (0,6)\n"
     ]
    },
    {
     "name": "stderr",
     "output_type": "stream",
     "text": [
      "127.0.0.1 - - [28/Nov/2022 12:27:13] \"GET /position HTTP/1.1\" 200 -\n"
     ]
    },
    {
     "name": "stdout",
     "output_type": "stream",
     "text": [
      "Moving Car 2 from (80,162) to (80,168) velocity= (0,6)\n",
      "Moving Car 3 from (20,162) to (20,168) velocity= (0,6)\n",
      "Moving Car 4 from (80,114) to (80,120) velocity= (0,6)\n",
      "Moving Car 5 from (50,82) to (50,82) velocity= (0,0)\n",
      "Moving Car 6 from (50,63) to (50,66) velocity= (0,3)\n",
      "Moving Car 7 from (80,66) to (80,72) velocity= (0,6)\n",
      "Moving Car 8 from (20,18) to (20,24) velocity= (0,6)\n",
      "Moving Car 9 from (80,18) to (80,24) velocity= (0,6)\n"
     ]
    },
    {
     "name": "stderr",
     "output_type": "stream",
     "text": [
      "127.0.0.1 - - [28/Nov/2022 12:27:13] \"GET /position HTTP/1.1\" 200 -\n"
     ]
    },
    {
     "name": "stdout",
     "output_type": "stream",
     "text": [
      "Moving Car 2 from (80,168) to (80,174) velocity= (0,6)\n",
      "Moving Car 3 from (20,168) to (20,174) velocity= (0,6)\n",
      "Moving Car 4 from (80,120) to (80,126) velocity= (0,6)\n",
      "Moving Car 5 from (50,82) to (50,82) velocity= (0,0)\n",
      "Moving Car 6 from (50,66) to (50,69) velocity= (0,3)\n",
      "Moving Car 7 from (80,72) to (80,78) velocity= (0,6)\n",
      "Moving Car 8 from (20,24) to (20,30) velocity= (0,6)\n",
      "Moving Car 9 from (80,24) to (80,30) velocity= (0,6)\n"
     ]
    },
    {
     "name": "stderr",
     "output_type": "stream",
     "text": [
      "127.0.0.1 - - [28/Nov/2022 12:27:14] \"GET /position HTTP/1.1\" 200 -\n"
     ]
    },
    {
     "name": "stdout",
     "output_type": "stream",
     "text": [
      "Moving Car 2 from (80,174) to (80,180) velocity= (0,6)\n",
      "Moving Car 3 from (20,174) to (20,180) velocity= (0,6)\n",
      "Moving Car 4 from (80,126) to (80,132) velocity= (0,6)\n",
      "Moving Car 5 from (50,82) to (50,82) velocity= (0,0)\n",
      "Moving Car 6 from (50,69) to (50,72) velocity= (0,3)\n",
      "Moving Car 7 from (80,78) to (80,84) velocity= (0,6)\n",
      "Moving Car 8 from (20,30) to (20,36) velocity= (0,6)\n",
      "Moving Car 9 from (80,30) to (80,36) velocity= (0,6)\n"
     ]
    },
    {
     "name": "stderr",
     "output_type": "stream",
     "text": [
      "127.0.0.1 - - [28/Nov/2022 12:27:14] \"GET /position HTTP/1.1\" 200 -\n"
     ]
    },
    {
     "name": "stdout",
     "output_type": "stream",
     "text": [
      "Moving Car 2 from (80,180) to (80,186) velocity= (0,6)\n",
      "Moving Car 3 from (20,180) to (20,186) velocity= (0,6)\n",
      "Moving Car 4 from (80,132) to (80,138) velocity= (0,6)\n",
      "Moving Car 5 from (50,82) to (50,82) velocity= (0,0)\n",
      "The car in the line 50 Can Crash aahhh\n",
      "NewLine Decision 0\n",
      "I can't change line, I'll brake\n",
      "Moving Car 6 from (50,72) to (50,73) velocity= (0,1)\n",
      "Moving Car 7 from (80,84) to (80,90) velocity= (0,6)\n",
      "Moving Car 8 from (20,36) to (20,42) velocity= (0,6)\n",
      "Moving Car 9 from (80,36) to (80,42) velocity= (0,6)\n"
     ]
    },
    {
     "name": "stderr",
     "output_type": "stream",
     "text": [
      "127.0.0.1 - - [28/Nov/2022 12:27:14] \"GET /position HTTP/1.1\" 200 -\n"
     ]
    },
    {
     "name": "stdout",
     "output_type": "stream",
     "text": [
      "Moving Car 2 from (80,186) to (80,192) velocity= (0,6)\n",
      "Moving Car 3 from (20,186) to (20,192) velocity= (0,6)\n",
      "Moving Car 4 from (80,138) to (80,144) velocity= (0,6)\n",
      "Moving Car 5 from (50,82) to (50,82) velocity= (0,0)\n",
      "Moving Car 6 from (50,73) to (50,74) velocity= (0,1)\n",
      "Moving Car 7 from (80,90) to (80,96) velocity= (0,6)\n",
      "Moving Car 8 from (20,42) to (20,48) velocity= (0,6)\n",
      "Moving Car 9 from (80,42) to (80,48) velocity= (0,6)\n"
     ]
    },
    {
     "name": "stderr",
     "output_type": "stream",
     "text": [
      "127.0.0.1 - - [28/Nov/2022 12:27:15] \"GET /position HTTP/1.1\" 200 -\n"
     ]
    },
    {
     "name": "stdout",
     "output_type": "stream",
     "text": [
      "Moving Car 2 from (80,192) to (80,198) velocity= (0,6)\n",
      "Moving Car 3 from (20,192) to (20,198) velocity= (0,6)\n",
      "Moving Car 4 from (80,144) to (80,150) velocity= (0,6)\n",
      "Moving Car 5 from (50,82) to (50,82) velocity= (0,0)\n",
      "Moving Car 6 from (50,74) to (50,75) velocity= (0,1)\n",
      "Moving Car 7 from (80,96) to (80,102) velocity= (0,6)\n",
      "Moving Car 8 from (20,48) to (20,54) velocity= (0,6)\n",
      "Moving Car 9 from (80,48) to (80,54) velocity= (0,6)\n",
      "Moving Car 10 from (20,0) to (20,6) velocity= (0,6)\n",
      "Moving Car 11 from (50,0) to (50,6) velocity= (0,6)\n"
     ]
    },
    {
     "name": "stderr",
     "output_type": "stream",
     "text": [
      "127.0.0.1 - - [28/Nov/2022 12:27:15] \"GET /position HTTP/1.1\" 200 -\n"
     ]
    },
    {
     "name": "stdout",
     "output_type": "stream",
     "text": [
      "Moving Car 2 from (80,198) to (80,204) velocity= (0,6)\n",
      "Moving Car 3 from (20,198) to (20,204) velocity= (0,6)\n",
      "Moving Car 4 from (80,150) to (80,156) velocity= (0,6)\n",
      "Moving Car 5 from (50,82) to (50,82) velocity= (0,0)\n",
      "Moving Car 6 from (50,75) to (50,76) velocity= (0,1)\n",
      "Moving Car 7 from (80,102) to (80,108) velocity= (0,6)\n",
      "Moving Car 8 from (20,54) to (20,60) velocity= (0,6)\n",
      "Moving Car 9 from (80,54) to (80,60) velocity= (0,6)\n",
      "Moving Car 10 from (20,6) to (20,12) velocity= (0,6)\n",
      "Moving Car 11 from (50,6) to (50,12) velocity= (0,6)\n"
     ]
    },
    {
     "name": "stderr",
     "output_type": "stream",
     "text": [
      "127.0.0.1 - - [28/Nov/2022 12:27:16] \"GET /position HTTP/1.1\" 200 -\n"
     ]
    },
    {
     "name": "stdout",
     "output_type": "stream",
     "text": [
      "Moving Car 4 from (80,156) to (80,162) velocity= (0,6)\n",
      "Moving Car 5 from (50,82) to (50,82) velocity= (0,0)\n",
      "Moving Car 6 from (50,76) to (50,77) velocity= (0,1)\n",
      "Moving Car 7 from (80,108) to (80,114) velocity= (0,6)\n",
      "Moving Car 8 from (20,60) to (20,66) velocity= (0,6)\n",
      "Moving Car 9 from (80,60) to (80,66) velocity= (0,6)\n",
      "Moving Car 10 from (20,12) to (20,18) velocity= (0,6)\n",
      "Moving Car 11 from (50,12) to (50,18) velocity= (0,6)\n"
     ]
    },
    {
     "name": "stderr",
     "output_type": "stream",
     "text": [
      "127.0.0.1 - - [28/Nov/2022 12:27:16] \"GET /position HTTP/1.1\" 200 -\n"
     ]
    },
    {
     "name": "stdout",
     "output_type": "stream",
     "text": [
      "Moving Car 4 from (80,162) to (80,168) velocity= (0,6)\n",
      "Moving Car 5 from (50,82) to (50,82) velocity= (0,0)\n",
      "Moving Car 6 from (50,77) to (50,78) velocity= (0,1)\n",
      "Moving Car 7 from (80,114) to (80,120) velocity= (0,6)\n",
      "Moving Car 8 from (20,66) to (20,72) velocity= (0,6)\n",
      "Moving Car 9 from (80,66) to (80,72) velocity= (0,6)\n",
      "Moving Car 10 from (20,18) to (20,24) velocity= (0,6)\n",
      "Moving Car 11 from (50,18) to (50,24) velocity= (0,6)\n"
     ]
    },
    {
     "name": "stderr",
     "output_type": "stream",
     "text": [
      "127.0.0.1 - - [28/Nov/2022 12:27:16] \"GET /position HTTP/1.1\" 200 -\n"
     ]
    },
    {
     "name": "stdout",
     "output_type": "stream",
     "text": [
      "Moving Car 4 from (80,168) to (80,174) velocity= (0,6)\n",
      "Moving Car 5 from (50,82) to (50,82) velocity= (0,0)\n",
      "Moving Car 6 from (50,78) to (50,79) velocity= (0,1)\n",
      "Moving Car 7 from (80,120) to (80,126) velocity= (0,6)\n",
      "Moving Car 8 from (20,72) to (20,78) velocity= (0,6)\n",
      "Moving Car 9 from (80,72) to (80,78) velocity= (0,6)\n",
      "Moving Car 10 from (20,24) to (20,30) velocity= (0,6)\n",
      "Moving Car 11 from (50,24) to (50,30) velocity= (0,6)\n"
     ]
    },
    {
     "name": "stderr",
     "output_type": "stream",
     "text": [
      "127.0.0.1 - - [28/Nov/2022 12:27:17] \"GET /position HTTP/1.1\" 200 -\n"
     ]
    },
    {
     "name": "stdout",
     "output_type": "stream",
     "text": [
      "Moving Car 4 from (80,174) to (80,180) velocity= (0,6)\n",
      "Moving Car 5 from (50,82) to (50,82) velocity= (0,0)\n",
      "The car in the line 50 Can Crash aahhh\n",
      "NewLine Decision 0\n",
      "I can't change line, I'll brake\n",
      "Moving Car 6 from (50,79) to (50,79) velocity= (0,0)\n",
      "Moving Car 7 from (80,126) to (80,132) velocity= (0,6)\n",
      "Moving Car 8 from (20,78) to (20,84) velocity= (0,6)\n",
      "Moving Car 9 from (80,78) to (80,84) velocity= (0,6)\n",
      "Moving Car 10 from (20,30) to (20,36) velocity= (0,6)\n",
      "Moving Car 11 from (50,30) to (50,36) velocity= (0,6)\n"
     ]
    },
    {
     "name": "stderr",
     "output_type": "stream",
     "text": [
      "127.0.0.1 - - [28/Nov/2022 12:27:17] \"GET /position HTTP/1.1\" 200 -\n"
     ]
    },
    {
     "name": "stdout",
     "output_type": "stream",
     "text": [
      "Moving Car 4 from (80,180) to (80,186) velocity= (0,6)\n",
      "Moving Car 5 from (50,82) to (50,82) velocity= (0,0)\n",
      "Moving Car 6 from (50,79) to (50,79) velocity= (0,0)\n",
      "Moving Car 7 from (80,132) to (80,138) velocity= (0,6)\n",
      "Moving Car 8 from (20,84) to (20,90) velocity= (0,6)\n",
      "Moving Car 9 from (80,84) to (80,90) velocity= (0,6)\n",
      "Moving Car 10 from (20,36) to (20,42) velocity= (0,6)\n",
      "Moving Car 11 from (50,36) to (50,42) velocity= (0,6)\n"
     ]
    },
    {
     "name": "stderr",
     "output_type": "stream",
     "text": [
      "127.0.0.1 - - [28/Nov/2022 12:27:17] \"GET /position HTTP/1.1\" 200 -\n"
     ]
    },
    {
     "name": "stdout",
     "output_type": "stream",
     "text": [
      "Moving Car 4 from (80,186) to (80,192) velocity= (0,6)\n",
      "Moving Car 5 from (50,82) to (50,82) velocity= (0,0)\n",
      "Moving Car 6 from (50,79) to (50,79) velocity= (0,0)\n",
      "Moving Car 7 from (80,138) to (80,144) velocity= (0,6)\n",
      "Moving Car 8 from (20,90) to (20,96) velocity= (0,6)\n",
      "Moving Car 9 from (80,90) to (80,96) velocity= (0,6)\n",
      "Moving Car 10 from (20,42) to (20,48) velocity= (0,6)\n",
      "Moving Car 11 from (50,42) to (50,48) velocity= (0,6)\n"
     ]
    },
    {
     "name": "stderr",
     "output_type": "stream",
     "text": [
      "127.0.0.1 - - [28/Nov/2022 12:27:18] \"GET /position HTTP/1.1\" 200 -\n"
     ]
    },
    {
     "name": "stdout",
     "output_type": "stream",
     "text": [
      "Moving Car 4 from (80,192) to (80,198) velocity= (0,6)\n",
      "Moving Car 5 from (50,82) to (50,82) velocity= (0,0)\n",
      "Moving Car 6 from (50,79) to (50,79) velocity= (0,0)\n",
      "Moving Car 7 from (80,144) to (80,150) velocity= (0,6)\n",
      "Moving Car 8 from (20,96) to (20,102) velocity= (0,6)\n",
      "Moving Car 9 from (80,96) to (80,102) velocity= (0,6)\n",
      "Moving Car 10 from (20,48) to (20,54) velocity= (0,6)\n",
      "Moving Car 11 from (50,48) to (50,54) velocity= (0,6)\n",
      "Moving Car 12 from (20,0) to (20,6) velocity= (0,6)\n",
      "Moving Car 13 from (50,0) to (50,6) velocity= (0,6)\n"
     ]
    },
    {
     "name": "stderr",
     "output_type": "stream",
     "text": [
      "127.0.0.1 - - [28/Nov/2022 12:27:18] \"GET /position HTTP/1.1\" 200 -\n"
     ]
    },
    {
     "name": "stdout",
     "output_type": "stream",
     "text": [
      "Moving Car 4 from (80,198) to (80,204) velocity= (0,6)\n",
      "Moving Car 5 from (50,82) to (50,82) velocity= (0,0)\n",
      "Moving Car 6 from (50,79) to (50,79) velocity= (0,0)\n",
      "Moving Car 7 from (80,150) to (80,156) velocity= (0,6)\n",
      "Moving Car 8 from (20,102) to (20,108) velocity= (0,6)\n",
      "Moving Car 9 from (80,102) to (80,108) velocity= (0,6)\n",
      "Moving Car 10 from (20,54) to (20,60) velocity= (0,6)\n",
      "Moving Car 11 from (50,54) to (50,60) velocity= (0,6)\n",
      "Moving Car 12 from (20,6) to (20,12) velocity= (0,6)\n",
      "Moving Car 13 from (50,6) to (50,12) velocity= (0,6)\n"
     ]
    },
    {
     "name": "stderr",
     "output_type": "stream",
     "text": [
      "127.0.0.1 - - [28/Nov/2022 12:27:18] \"GET /position HTTP/1.1\" 200 -\n"
     ]
    },
    {
     "name": "stdout",
     "output_type": "stream",
     "text": [
      "Moving Car 5 from (50,82) to (50,82) velocity= (0,0)\n",
      "Moving Car 6 from (50,79) to (50,79) velocity= (0,0)\n",
      "Moving Car 7 from (80,156) to (80,162) velocity= (0,6)\n",
      "Moving Car 8 from (20,108) to (20,114) velocity= (0,6)\n",
      "Moving Car 9 from (80,108) to (80,114) velocity= (0,6)\n",
      "Moving Car 10 from (20,60) to (20,66) velocity= (0,6)\n",
      "The car in the line 50 Can Crash aahhh\n",
      "NewLine Decision 80\n",
      "CHANGING LINE 50 to 80\n",
      "Moving Car 11 from (50,60) to (50,66) velocity= (0,6)\n",
      "Moving Car 12 from (20,12) to (20,18) velocity= (0,6)\n",
      "Moving Car 13 from (50,12) to (50,18) velocity= (0,6)\n"
     ]
    },
    {
     "name": "stderr",
     "output_type": "stream",
     "text": [
      "127.0.0.1 - - [28/Nov/2022 12:27:19] \"GET /position HTTP/1.1\" 200 -\n"
     ]
    },
    {
     "name": "stdout",
     "output_type": "stream",
     "text": [
      "Moving Car 5 from (50,82) to (50,82) velocity= (0,0)\n",
      "Moving Car 6 from (50,79) to (50,79) velocity= (0,0)\n",
      "Moving Car 7 from (80,162) to (80,168) velocity= (0,6)\n",
      "Moving Car 8 from (20,114) to (20,120) velocity= (0,6)\n",
      "Moving Car 9 from (80,114) to (80,120) velocity= (0,6)\n",
      "Moving Car 10 from (20,66) to (20,72) velocity= (0,6)\n",
      "Moving Car 11 from (50,66) to (55,72) velocity= (5,6)\n",
      "Moving Car 12 from (20,18) to (20,24) velocity= (0,6)\n",
      "Moving Car 13 from (50,18) to (50,24) velocity= (0,6)\n"
     ]
    },
    {
     "name": "stderr",
     "output_type": "stream",
     "text": [
      "127.0.0.1 - - [28/Nov/2022 12:27:19] \"GET /position HTTP/1.1\" 200 -\n"
     ]
    },
    {
     "name": "stdout",
     "output_type": "stream",
     "text": [
      "Moving Car 5 from (50,82) to (50,82) velocity= (0,0)\n",
      "Moving Car 6 from (50,79) to (50,79) velocity= (0,0)\n",
      "Moving Car 7 from (80,168) to (80,174) velocity= (0,6)\n",
      "Moving Car 8 from (20,120) to (20,126) velocity= (0,6)\n",
      "Moving Car 9 from (80,120) to (80,126) velocity= (0,6)\n",
      "Moving Car 10 from (20,72) to (20,78) velocity= (0,6)\n",
      "Moving Car 11 from (55,72) to (60,78) velocity= (5,6)\n",
      "Moving Car 12 from (20,24) to (20,30) velocity= (0,6)\n",
      "Moving Car 13 from (50,24) to (50,30) velocity= (0,6)\n"
     ]
    },
    {
     "name": "stderr",
     "output_type": "stream",
     "text": [
      "127.0.0.1 - - [28/Nov/2022 12:27:19] \"GET /position HTTP/1.1\" 200 -\n"
     ]
    },
    {
     "name": "stdout",
     "output_type": "stream",
     "text": [
      "Moving Car 5 from (50,82) to (50,82) velocity= (0,0)\n",
      "Moving Car 6 from (50,79) to (50,79) velocity= (0,0)\n",
      "Moving Car 7 from (80,174) to (80,180) velocity= (0,6)\n",
      "Moving Car 8 from (20,126) to (20,132) velocity= (0,6)\n",
      "Moving Car 9 from (80,126) to (80,132) velocity= (0,6)\n",
      "Moving Car 10 from (20,78) to (20,84) velocity= (0,6)\n",
      "Moving Car 11 from (60,78) to (65,84) velocity= (5,6)\n",
      "Moving Car 12 from (20,30) to (20,36) velocity= (0,6)\n",
      "Moving Car 13 from (50,30) to (50,36) velocity= (0,6)\n"
     ]
    },
    {
     "name": "stderr",
     "output_type": "stream",
     "text": [
      "127.0.0.1 - - [28/Nov/2022 12:27:20] \"GET /position HTTP/1.1\" 200 -\n"
     ]
    },
    {
     "name": "stdout",
     "output_type": "stream",
     "text": [
      "Moving Car 5 from (50,82) to (50,82) velocity= (0,0)\n",
      "Moving Car 6 from (50,79) to (50,79) velocity= (0,0)\n",
      "Moving Car 7 from (80,180) to (80,186) velocity= (0,6)\n",
      "Moving Car 8 from (20,132) to (20,138) velocity= (0,6)\n",
      "Moving Car 9 from (80,132) to (80,138) velocity= (0,6)\n",
      "Moving Car 10 from (20,84) to (20,90) velocity= (0,6)\n",
      "Moving Car 11 from (65,84) to (70,90) velocity= (5,6)\n",
      "Moving Car 12 from (20,36) to (20,42) velocity= (0,6)\n",
      "Moving Car 13 from (50,36) to (50,42) velocity= (0,6)\n"
     ]
    },
    {
     "name": "stderr",
     "output_type": "stream",
     "text": [
      "127.0.0.1 - - [28/Nov/2022 12:27:20] \"GET /position HTTP/1.1\" 200 -\n"
     ]
    },
    {
     "name": "stdout",
     "output_type": "stream",
     "text": [
      "Moving Car 5 from (50,82) to (50,82) velocity= (0,0)\n",
      "Moving Car 6 from (50,79) to (50,79) velocity= (0,0)\n",
      "Moving Car 7 from (80,186) to (80,192) velocity= (0,6)\n",
      "Moving Car 8 from (20,138) to (20,144) velocity= (0,6)\n",
      "Moving Car 9 from (80,138) to (80,144) velocity= (0,6)\n",
      "Moving Car 10 from (20,90) to (20,96) velocity= (0,6)\n",
      "Moving Car 11 from (70,90) to (75,96) velocity= (5,6)\n",
      "Moving Car 12 from (20,42) to (20,48) velocity= (0,6)\n",
      "Moving Car 13 from (50,42) to (50,48) velocity= (0,6)\n"
     ]
    },
    {
     "name": "stderr",
     "output_type": "stream",
     "text": [
      "127.0.0.1 - - [28/Nov/2022 12:27:20] \"GET /position HTTP/1.1\" 200 -\n"
     ]
    },
    {
     "name": "stdout",
     "output_type": "stream",
     "text": [
      "Moving Car 5 from (50,82) to (50,82) velocity= (0,0)\n",
      "Moving Car 6 from (50,79) to (50,79) velocity= (0,0)\n",
      "Moving Car 7 from (80,192) to (80,198) velocity= (0,6)\n",
      "Moving Car 8 from (20,144) to (20,150) velocity= (0,6)\n",
      "Moving Car 9 from (80,144) to (80,150) velocity= (0,6)\n",
      "Moving Car 10 from (20,96) to (20,102) velocity= (0,6)\n",
      "Moving Car 11 from (75,96) to (80,102) velocity= (5,6)\n",
      "Moving Car 12 from (20,48) to (20,54) velocity= (0,6)\n",
      "Moving Car 13 from (50,48) to (50,54) velocity= (0,6)\n",
      "Moving Car 14 from (80,0) to (80,6) velocity= (0,6)\n",
      "Moving Car 15 from (20,0) to (20,6) velocity= (0,6)\n"
     ]
    },
    {
     "name": "stderr",
     "output_type": "stream",
     "text": [
      "127.0.0.1 - - [28/Nov/2022 12:27:21] \"GET /position HTTP/1.1\" 200 -\n"
     ]
    },
    {
     "name": "stdout",
     "output_type": "stream",
     "text": [
      "Moving Car 5 from (50,82) to (50,82) velocity= (0,0)\n",
      "Moving Car 6 from (50,79) to (50,79) velocity= (0,0)\n",
      "Moving Car 7 from (80,198) to (80,204) velocity= (0,6)\n",
      "Moving Car 8 from (20,150) to (20,156) velocity= (0,6)\n",
      "Moving Car 9 from (80,150) to (80,156) velocity= (0,6)\n",
      "Moving Car 10 from (20,102) to (20,108) velocity= (0,6)\n",
      "CHANGE LINE SUCCESSFULL\n",
      "Moving Car 11 from (80,102) to (80,108) velocity= (0,6)\n",
      "Moving Car 12 from (20,54) to (20,60) velocity= (0,6)\n",
      "Moving Car 13 from (50,54) to (50,60) velocity= (0,6)\n",
      "Moving Car 14 from (80,6) to (80,12) velocity= (0,6)\n",
      "Moving Car 15 from (20,6) to (20,12) velocity= (0,6)\n"
     ]
    },
    {
     "name": "stderr",
     "output_type": "stream",
     "text": [
      "127.0.0.1 - - [28/Nov/2022 12:27:21] \"GET /position HTTP/1.1\" 200 -\n"
     ]
    },
    {
     "name": "stdout",
     "output_type": "stream",
     "text": [
      "Moving Car 5 from (50,82) to (50,82) velocity= (0,0)\n",
      "Moving Car 6 from (50,79) to (50,79) velocity= (0,0)\n",
      "Moving Car 8 from (20,156) to (20,162) velocity= (0,6)\n",
      "Moving Car 9 from (80,156) to (80,162) velocity= (0,6)\n",
      "Moving Car 10 from (20,108) to (20,114) velocity= (0,6)\n",
      "CHANGE LINE SUCCESSFULL\n",
      "Moving Car 11 from (80,108) to (80,114) velocity= (0,6)\n",
      "Moving Car 12 from (20,60) to (20,66) velocity= (0,6)\n",
      "The car in the line 50 Can Crash aahhh\n",
      "NewLine Decision 0\n",
      "I can't change line, I'll brake\n",
      "Moving Car 13 from (50,60) to (50,63) velocity= (0,3)\n",
      "Moving Car 14 from (80,12) to (80,18) velocity= (0,6)\n",
      "Moving Car 15 from (20,12) to (20,18) velocity= (0,6)\n"
     ]
    },
    {
     "name": "stderr",
     "output_type": "stream",
     "text": [
      "127.0.0.1 - - [28/Nov/2022 12:27:21] \"GET /position HTTP/1.1\" 200 -\n"
     ]
    },
    {
     "name": "stdout",
     "output_type": "stream",
     "text": [
      "Moving Car 5 from (50,82) to (50,82) velocity= (0,0)\n",
      "Moving Car 6 from (50,79) to (50,79) velocity= (0,0)\n",
      "Moving Car 8 from (20,162) to (20,168) velocity= (0,6)\n",
      "Moving Car 9 from (80,162) to (80,168) velocity= (0,6)\n",
      "Moving Car 10 from (20,114) to (20,120) velocity= (0,6)\n",
      "CHANGE LINE SUCCESSFULL\n",
      "Moving Car 11 from (80,114) to (80,120) velocity= (0,6)\n",
      "Moving Car 12 from (20,66) to (20,72) velocity= (0,6)\n",
      "Moving Car 13 from (50,63) to (50,66) velocity= (0,3)\n",
      "Moving Car 14 from (80,18) to (80,24) velocity= (0,6)\n",
      "Moving Car 15 from (20,18) to (20,24) velocity= (0,6)\n"
     ]
    },
    {
     "name": "stderr",
     "output_type": "stream",
     "text": [
      "127.0.0.1 - - [28/Nov/2022 12:27:22] \"GET /position HTTP/1.1\" 200 -\n"
     ]
    },
    {
     "name": "stdout",
     "output_type": "stream",
     "text": [
      "Moving Car 5 from (50,82) to (50,82) velocity= (0,0)\n",
      "Moving Car 6 from (50,79) to (50,79) velocity= (0,0)\n",
      "Moving Car 8 from (20,168) to (20,174) velocity= (0,6)\n",
      "Moving Car 9 from (80,168) to (80,174) velocity= (0,6)\n",
      "Moving Car 10 from (20,120) to (20,126) velocity= (0,6)\n",
      "CHANGE LINE SUCCESSFULL\n",
      "Moving Car 11 from (80,120) to (80,126) velocity= (0,6)\n",
      "Moving Car 12 from (20,72) to (20,78) velocity= (0,6)\n",
      "Moving Car 13 from (50,66) to (50,69) velocity= (0,3)\n",
      "Moving Car 14 from (80,24) to (80,30) velocity= (0,6)\n",
      "Moving Car 15 from (20,24) to (20,30) velocity= (0,6)\n"
     ]
    },
    {
     "name": "stderr",
     "output_type": "stream",
     "text": [
      "127.0.0.1 - - [28/Nov/2022 12:27:22] \"GET /position HTTP/1.1\" 200 -\n"
     ]
    },
    {
     "name": "stdout",
     "output_type": "stream",
     "text": [
      "Moving Car 5 from (50,82) to (50,82) velocity= (0,0)\n",
      "Moving Car 6 from (50,79) to (50,79) velocity= (0,0)\n",
      "Moving Car 8 from (20,174) to (20,180) velocity= (0,6)\n",
      "Moving Car 9 from (80,174) to (80,180) velocity= (0,6)\n",
      "Moving Car 10 from (20,126) to (20,132) velocity= (0,6)\n",
      "CHANGE LINE SUCCESSFULL\n",
      "Moving Car 11 from (80,126) to (80,132) velocity= (0,6)\n",
      "Moving Car 12 from (20,78) to (20,84) velocity= (0,6)\n",
      "The car in the line 50 Can Crash aahhh\n",
      "NewLine Decision 0\n",
      "I can't change line, I'll brake\n",
      "Moving Car 13 from (50,69) to (50,70) velocity= (0,1)\n",
      "Moving Car 14 from (80,30) to (80,36) velocity= (0,6)\n",
      "Moving Car 15 from (20,30) to (20,36) velocity= (0,6)\n"
     ]
    },
    {
     "name": "stderr",
     "output_type": "stream",
     "text": [
      "127.0.0.1 - - [28/Nov/2022 12:27:23] \"GET /position HTTP/1.1\" 200 -\n"
     ]
    },
    {
     "name": "stdout",
     "output_type": "stream",
     "text": [
      "Moving Car 5 from (50,82) to (50,82) velocity= (0,0)\n",
      "Moving Car 6 from (50,79) to (50,79) velocity= (0,0)\n",
      "Moving Car 8 from (20,180) to (20,186) velocity= (0,6)\n",
      "Moving Car 9 from (80,180) to (80,186) velocity= (0,6)\n",
      "Moving Car 10 from (20,132) to (20,138) velocity= (0,6)\n",
      "CHANGE LINE SUCCESSFULL\n",
      "Moving Car 11 from (80,132) to (80,138) velocity= (0,6)\n",
      "Moving Car 12 from (20,84) to (20,90) velocity= (0,6)\n",
      "Moving Car 13 from (50,70) to (50,71) velocity= (0,1)\n",
      "Moving Car 14 from (80,36) to (80,42) velocity= (0,6)\n",
      "Moving Car 15 from (20,36) to (20,42) velocity= (0,6)\n"
     ]
    },
    {
     "name": "stderr",
     "output_type": "stream",
     "text": [
      "127.0.0.1 - - [28/Nov/2022 12:27:23] \"GET /position HTTP/1.1\" 200 -\n"
     ]
    },
    {
     "name": "stdout",
     "output_type": "stream",
     "text": [
      "Moving Car 5 from (50,82) to (50,82) velocity= (0,0)\n",
      "Moving Car 6 from (50,79) to (50,79) velocity= (0,0)\n",
      "Moving Car 8 from (20,186) to (20,192) velocity= (0,6)\n",
      "Moving Car 9 from (80,186) to (80,192) velocity= (0,6)\n",
      "Moving Car 10 from (20,138) to (20,144) velocity= (0,6)\n",
      "CHANGE LINE SUCCESSFULL\n",
      "Moving Car 11 from (80,138) to (80,144) velocity= (0,6)\n",
      "Moving Car 12 from (20,90) to (20,96) velocity= (0,6)\n",
      "Moving Car 13 from (50,71) to (50,72) velocity= (0,1)\n",
      "Moving Car 14 from (80,42) to (80,48) velocity= (0,6)\n",
      "Moving Car 15 from (20,42) to (20,48) velocity= (0,6)\n"
     ]
    },
    {
     "name": "stderr",
     "output_type": "stream",
     "text": [
      "127.0.0.1 - - [28/Nov/2022 12:27:23] \"GET /position HTTP/1.1\" 200 -\n"
     ]
    },
    {
     "name": "stdout",
     "output_type": "stream",
     "text": [
      "Moving Car 5 from (50,82) to (50,82) velocity= (0,0)\n",
      "Moving Car 6 from (50,79) to (50,79) velocity= (0,0)\n",
      "Moving Car 8 from (20,192) to (20,198) velocity= (0,6)\n",
      "Moving Car 9 from (80,192) to (80,198) velocity= (0,6)\n",
      "Moving Car 10 from (20,144) to (20,150) velocity= (0,6)\n",
      "CHANGE LINE SUCCESSFULL\n",
      "Moving Car 11 from (80,144) to (80,150) velocity= (0,6)\n",
      "Moving Car 12 from (20,96) to (20,102) velocity= (0,6)\n",
      "Moving Car 13 from (50,72) to (50,73) velocity= (0,1)\n",
      "Moving Car 14 from (80,48) to (80,54) velocity= (0,6)\n",
      "Moving Car 15 from (20,48) to (20,54) velocity= (0,6)\n",
      "Moving Car 16 from (20,0) to (20,6) velocity= (0,6)\n",
      "Moving Car 17 from (80,0) to (80,6) velocity= (0,6)\n"
     ]
    },
    {
     "name": "stderr",
     "output_type": "stream",
     "text": [
      "127.0.0.1 - - [28/Nov/2022 12:27:23] \"GET /position HTTP/1.1\" 200 -\n"
     ]
    },
    {
     "name": "stdout",
     "output_type": "stream",
     "text": [
      "Moving Car 5 from (50,82) to (50,82) velocity= (0,0)\n",
      "Moving Car 6 from (50,79) to (50,79) velocity= (0,0)\n",
      "Moving Car 8 from (20,198) to (20,204) velocity= (0,6)\n",
      "Moving Car 9 from (80,198) to (80,204) velocity= (0,6)\n",
      "Moving Car 10 from (20,150) to (20,156) velocity= (0,6)\n",
      "CHANGE LINE SUCCESSFULL\n",
      "Moving Car 11 from (80,150) to (80,156) velocity= (0,6)\n",
      "Moving Car 12 from (20,102) to (20,108) velocity= (0,6)\n",
      "Moving Car 13 from (50,73) to (50,74) velocity= (0,1)\n",
      "Moving Car 14 from (80,54) to (80,60) velocity= (0,6)\n",
      "Moving Car 15 from (20,54) to (20,60) velocity= (0,6)\n",
      "Moving Car 16 from (20,6) to (20,12) velocity= (0,6)\n",
      "Moving Car 17 from (80,6) to (80,12) velocity= (0,6)\n"
     ]
    },
    {
     "name": "stderr",
     "output_type": "stream",
     "text": [
      "127.0.0.1 - - [28/Nov/2022 12:27:24] \"GET /position HTTP/1.1\" 200 -\n"
     ]
    },
    {
     "name": "stdout",
     "output_type": "stream",
     "text": [
      "Moving Car 5 from (50,82) to (50,82) velocity= (0,0)\n",
      "Moving Car 6 from (50,79) to (50,79) velocity= (0,0)\n",
      "Moving Car 10 from (20,156) to (20,162) velocity= (0,6)\n",
      "CHANGE LINE SUCCESSFULL\n",
      "Moving Car 11 from (80,156) to (80,162) velocity= (0,6)\n",
      "Moving Car 12 from (20,108) to (20,114) velocity= (0,6)\n",
      "Moving Car 13 from (50,74) to (50,75) velocity= (0,1)\n",
      "Moving Car 14 from (80,60) to (80,66) velocity= (0,6)\n",
      "Moving Car 15 from (20,60) to (20,66) velocity= (0,6)\n",
      "Moving Car 16 from (20,12) to (20,18) velocity= (0,6)\n",
      "Moving Car 17 from (80,12) to (80,18) velocity= (0,6)\n"
     ]
    },
    {
     "name": "stderr",
     "output_type": "stream",
     "text": [
      "127.0.0.1 - - [28/Nov/2022 12:27:24] \"GET /position HTTP/1.1\" 200 -\n"
     ]
    },
    {
     "name": "stdout",
     "output_type": "stream",
     "text": [
      "Moving Car 5 from (50,82) to (50,82) velocity= (0,0)\n",
      "Moving Car 6 from (50,79) to (50,79) velocity= (0,0)\n",
      "Moving Car 10 from (20,162) to (20,168) velocity= (0,6)\n",
      "CHANGE LINE SUCCESSFULL\n",
      "Moving Car 11 from (80,162) to (80,168) velocity= (0,6)\n",
      "Moving Car 12 from (20,114) to (20,120) velocity= (0,6)\n",
      "Moving Car 13 from (50,75) to (50,76) velocity= (0,1)\n",
      "Moving Car 14 from (80,66) to (80,72) velocity= (0,6)\n",
      "Moving Car 15 from (20,66) to (20,72) velocity= (0,6)\n",
      "Moving Car 16 from (20,18) to (20,24) velocity= (0,6)\n",
      "Moving Car 17 from (80,18) to (80,24) velocity= (0,6)\n"
     ]
    },
    {
     "name": "stderr",
     "output_type": "stream",
     "text": [
      "127.0.0.1 - - [28/Nov/2022 12:27:24] \"GET /position HTTP/1.1\" 200 -\n"
     ]
    },
    {
     "name": "stdout",
     "output_type": "stream",
     "text": [
      "Moving Car 5 from (50,82) to (50,82) velocity= (0,0)\n",
      "Moving Car 6 from (50,79) to (50,79) velocity= (0,0)\n",
      "Moving Car 10 from (20,168) to (20,174) velocity= (0,6)\n",
      "CHANGE LINE SUCCESSFULL\n",
      "Moving Car 11 from (80,168) to (80,174) velocity= (0,6)\n",
      "Moving Car 12 from (20,120) to (20,126) velocity= (0,6)\n",
      "The car in the line 50 Can Crash aahhh\n",
      "NewLine Decision 0\n",
      "I can't change line, I'll brake\n",
      "Moving Car 13 from (50,76) to (50,76) velocity= (0,0)\n",
      "Moving Car 14 from (80,72) to (80,78) velocity= (0,6)\n",
      "Moving Car 15 from (20,72) to (20,78) velocity= (0,6)\n",
      "Moving Car 16 from (20,24) to (20,30) velocity= (0,6)\n",
      "Moving Car 17 from (80,24) to (80,30) velocity= (0,6)\n"
     ]
    },
    {
     "name": "stderr",
     "output_type": "stream",
     "text": [
      "127.0.0.1 - - [28/Nov/2022 12:27:25] \"GET /position HTTP/1.1\" 200 -\n"
     ]
    },
    {
     "name": "stdout",
     "output_type": "stream",
     "text": [
      "Moving Car 5 from (50,82) to (50,82) velocity= (0,0)\n",
      "Moving Car 6 from (50,79) to (50,79) velocity= (0,0)\n",
      "Moving Car 10 from (20,174) to (20,180) velocity= (0,6)\n",
      "CHANGE LINE SUCCESSFULL\n",
      "Moving Car 11 from (80,174) to (80,180) velocity= (0,6)\n",
      "Moving Car 12 from (20,126) to (20,132) velocity= (0,6)\n",
      "Moving Car 13 from (50,76) to (50,76) velocity= (0,0)\n",
      "Moving Car 14 from (80,78) to (80,84) velocity= (0,6)\n",
      "Moving Car 15 from (20,78) to (20,84) velocity= (0,6)\n",
      "Moving Car 16 from (20,30) to (20,36) velocity= (0,6)\n",
      "Moving Car 17 from (80,30) to (80,36) velocity= (0,6)\n"
     ]
    },
    {
     "name": "stderr",
     "output_type": "stream",
     "text": [
      "127.0.0.1 - - [28/Nov/2022 12:27:25] \"GET /position HTTP/1.1\" 200 -\n"
     ]
    },
    {
     "name": "stdout",
     "output_type": "stream",
     "text": [
      "Moving Car 5 from (50,82) to (50,82) velocity= (0,0)\n",
      "Moving Car 6 from (50,79) to (50,79) velocity= (0,0)\n",
      "Moving Car 10 from (20,180) to (20,186) velocity= (0,6)\n",
      "CHANGE LINE SUCCESSFULL\n",
      "Moving Car 11 from (80,180) to (80,186) velocity= (0,6)\n",
      "Moving Car 12 from (20,132) to (20,138) velocity= (0,6)\n",
      "Moving Car 13 from (50,76) to (50,76) velocity= (0,0)\n",
      "Moving Car 14 from (80,84) to (80,90) velocity= (0,6)\n",
      "Moving Car 15 from (20,84) to (20,90) velocity= (0,6)\n",
      "Moving Car 16 from (20,36) to (20,42) velocity= (0,6)\n",
      "Moving Car 17 from (80,36) to (80,42) velocity= (0,6)\n"
     ]
    },
    {
     "name": "stderr",
     "output_type": "stream",
     "text": [
      "127.0.0.1 - - [28/Nov/2022 12:27:25] \"GET /position HTTP/1.1\" 200 -\n"
     ]
    },
    {
     "name": "stdout",
     "output_type": "stream",
     "text": [
      "Moving Car 5 from (50,82) to (50,82) velocity= (0,0)\n",
      "Moving Car 6 from (50,79) to (50,79) velocity= (0,0)\n",
      "Moving Car 10 from (20,186) to (20,192) velocity= (0,6)\n",
      "CHANGE LINE SUCCESSFULL\n",
      "Moving Car 11 from (80,186) to (80,192) velocity= (0,6)\n",
      "Moving Car 12 from (20,138) to (20,144) velocity= (0,6)\n",
      "Moving Car 13 from (50,76) to (50,76) velocity= (0,0)\n",
      "Moving Car 14 from (80,90) to (80,96) velocity= (0,6)\n",
      "Moving Car 15 from (20,90) to (20,96) velocity= (0,6)\n",
      "Moving Car 16 from (20,42) to (20,48) velocity= (0,6)\n",
      "Moving Car 17 from (80,42) to (80,48) velocity= (0,6)\n"
     ]
    },
    {
     "name": "stderr",
     "output_type": "stream",
     "text": [
      "127.0.0.1 - - [28/Nov/2022 12:27:26] \"GET /position HTTP/1.1\" 200 -\n"
     ]
    },
    {
     "name": "stdout",
     "output_type": "stream",
     "text": [
      "Moving Car 5 from (50,82) to (50,82) velocity= (0,0)\n",
      "Moving Car 6 from (50,79) to (50,79) velocity= (0,0)\n",
      "Moving Car 10 from (20,192) to (20,198) velocity= (0,6)\n",
      "CHANGE LINE SUCCESSFULL\n",
      "Moving Car 11 from (80,192) to (80,198) velocity= (0,6)\n",
      "Moving Car 12 from (20,144) to (20,150) velocity= (0,6)\n",
      "Moving Car 13 from (50,76) to (50,76) velocity= (0,0)\n",
      "Moving Car 14 from (80,96) to (80,102) velocity= (0,6)\n",
      "Moving Car 15 from (20,96) to (20,102) velocity= (0,6)\n",
      "Moving Car 16 from (20,48) to (20,54) velocity= (0,6)\n",
      "Moving Car 17 from (80,48) to (80,54) velocity= (0,6)\n",
      "Moving Car 18 from (80,0) to (80,6) velocity= (0,6)\n",
      "Moving Car 19 from (50,0) to (50,6) velocity= (0,6)\n"
     ]
    },
    {
     "name": "stderr",
     "output_type": "stream",
     "text": [
      "127.0.0.1 - - [28/Nov/2022 12:27:27] \"GET /position HTTP/1.1\" 200 -\n"
     ]
    },
    {
     "name": "stdout",
     "output_type": "stream",
     "text": [
      "Moving Car 5 from (50,82) to (50,82) velocity= (0,0)\n",
      "Moving Car 6 from (50,79) to (50,79) velocity= (0,0)\n",
      "Moving Car 10 from (20,198) to (20,204) velocity= (0,6)\n",
      "CHANGE LINE SUCCESSFULL\n",
      "Moving Car 11 from (80,198) to (80,204) velocity= (0,6)\n",
      "Moving Car 12 from (20,150) to (20,156) velocity= (0,6)\n",
      "Moving Car 13 from (50,76) to (50,76) velocity= (0,0)\n",
      "Moving Car 14 from (80,102) to (80,108) velocity= (0,6)\n",
      "Moving Car 15 from (20,102) to (20,108) velocity= (0,6)\n",
      "Moving Car 16 from (20,54) to (20,60) velocity= (0,6)\n",
      "Moving Car 17 from (80,54) to (80,60) velocity= (0,6)\n",
      "Moving Car 18 from (80,6) to (80,12) velocity= (0,6)\n",
      "Moving Car 19 from (50,6) to (50,12) velocity= (0,6)\n"
     ]
    },
    {
     "name": "stderr",
     "output_type": "stream",
     "text": [
      "127.0.0.1 - - [28/Nov/2022 12:27:27] \"GET /position HTTP/1.1\" 200 -\n"
     ]
    },
    {
     "name": "stdout",
     "output_type": "stream",
     "text": [
      "Moving Car 5 from (50,82) to (50,82) velocity= (0,0)\n",
      "Moving Car 6 from (50,79) to (50,79) velocity= (0,0)\n",
      "Moving Car 12 from (20,156) to (20,162) velocity= (0,6)\n",
      "Moving Car 13 from (50,76) to (50,76) velocity= (0,0)\n",
      "Moving Car 14 from (80,108) to (80,114) velocity= (0,6)\n",
      "Moving Car 15 from (20,108) to (20,114) velocity= (0,6)\n",
      "Moving Car 16 from (20,60) to (20,66) velocity= (0,6)\n",
      "Moving Car 17 from (80,60) to (80,66) velocity= (0,6)\n",
      "Moving Car 18 from (80,12) to (80,18) velocity= (0,6)\n",
      "Moving Car 19 from (50,12) to (50,18) velocity= (0,6)\n"
     ]
    },
    {
     "name": "stderr",
     "output_type": "stream",
     "text": [
      "127.0.0.1 - - [28/Nov/2022 12:27:27] \"GET /position HTTP/1.1\" 200 -\n"
     ]
    },
    {
     "name": "stdout",
     "output_type": "stream",
     "text": [
      "Moving Car 5 from (50,82) to (50,82) velocity= (0,0)\n",
      "Moving Car 6 from (50,79) to (50,79) velocity= (0,0)\n",
      "Moving Car 12 from (20,162) to (20,168) velocity= (0,6)\n",
      "Moving Car 13 from (50,76) to (50,76) velocity= (0,0)\n",
      "Moving Car 14 from (80,114) to (80,120) velocity= (0,6)\n",
      "Moving Car 15 from (20,114) to (20,120) velocity= (0,6)\n",
      "Moving Car 16 from (20,66) to (20,72) velocity= (0,6)\n",
      "Moving Car 17 from (80,66) to (80,72) velocity= (0,6)\n",
      "Moving Car 18 from (80,18) to (80,24) velocity= (0,6)\n",
      "Moving Car 19 from (50,18) to (50,24) velocity= (0,6)\n"
     ]
    },
    {
     "name": "stderr",
     "output_type": "stream",
     "text": [
      "127.0.0.1 - - [28/Nov/2022 12:27:28] \"GET /position HTTP/1.1\" 200 -\n"
     ]
    },
    {
     "name": "stdout",
     "output_type": "stream",
     "text": [
      "Moving Car 5 from (50,82) to (50,82) velocity= (0,0)\n",
      "Moving Car 6 from (50,79) to (50,79) velocity= (0,0)\n",
      "Moving Car 12 from (20,168) to (20,174) velocity= (0,6)\n",
      "Moving Car 13 from (50,76) to (50,76) velocity= (0,0)\n",
      "Moving Car 14 from (80,120) to (80,126) velocity= (0,6)\n",
      "Moving Car 15 from (20,120) to (20,126) velocity= (0,6)\n",
      "Moving Car 16 from (20,72) to (20,78) velocity= (0,6)\n",
      "Moving Car 17 from (80,72) to (80,78) velocity= (0,6)\n",
      "Moving Car 18 from (80,24) to (80,30) velocity= (0,6)\n",
      "Moving Car 19 from (50,24) to (50,30) velocity= (0,6)\n"
     ]
    },
    {
     "name": "stderr",
     "output_type": "stream",
     "text": [
      "127.0.0.1 - - [28/Nov/2022 12:27:28] \"GET /position HTTP/1.1\" 200 -\n"
     ]
    },
    {
     "name": "stdout",
     "output_type": "stream",
     "text": [
      "Moving Car 5 from (50,82) to (50,82) velocity= (0,0)\n",
      "Moving Car 6 from (50,79) to (50,79) velocity= (0,0)\n",
      "Moving Car 12 from (20,174) to (20,180) velocity= (0,6)\n",
      "Moving Car 13 from (50,76) to (50,76) velocity= (0,0)\n",
      "Moving Car 14 from (80,126) to (80,132) velocity= (0,6)\n",
      "Moving Car 15 from (20,126) to (20,132) velocity= (0,6)\n",
      "Moving Car 16 from (20,78) to (20,84) velocity= (0,6)\n",
      "Moving Car 17 from (80,78) to (80,84) velocity= (0,6)\n",
      "Moving Car 18 from (80,30) to (80,36) velocity= (0,6)\n",
      "Moving Car 19 from (50,30) to (50,36) velocity= (0,6)\n"
     ]
    },
    {
     "name": "stderr",
     "output_type": "stream",
     "text": [
      "127.0.0.1 - - [28/Nov/2022 12:27:28] \"GET /position HTTP/1.1\" 200 -\n"
     ]
    },
    {
     "name": "stdout",
     "output_type": "stream",
     "text": [
      "Moving Car 5 from (50,82) to (50,82) velocity= (0,0)\n",
      "Moving Car 6 from (50,79) to (50,79) velocity= (0,0)\n",
      "Moving Car 12 from (20,180) to (20,186) velocity= (0,6)\n",
      "Moving Car 13 from (50,76) to (50,76) velocity= (0,0)\n",
      "Moving Car 14 from (80,132) to (80,138) velocity= (0,6)\n",
      "Moving Car 15 from (20,132) to (20,138) velocity= (0,6)\n",
      "Moving Car 16 from (20,84) to (20,90) velocity= (0,6)\n",
      "Moving Car 17 from (80,84) to (80,90) velocity= (0,6)\n",
      "Moving Car 18 from (80,36) to (80,42) velocity= (0,6)\n",
      "Moving Car 19 from (50,36) to (50,42) velocity= (0,6)\n"
     ]
    },
    {
     "name": "stderr",
     "output_type": "stream",
     "text": [
      "127.0.0.1 - - [28/Nov/2022 12:27:29] \"GET /position HTTP/1.1\" 200 -\n"
     ]
    },
    {
     "name": "stdout",
     "output_type": "stream",
     "text": [
      "Moving Car 5 from (50,82) to (50,82) velocity= (0,0)\n",
      "Moving Car 6 from (50,79) to (50,79) velocity= (0,0)\n",
      "Moving Car 12 from (20,186) to (20,192) velocity= (0,6)\n",
      "Moving Car 13 from (50,76) to (50,76) velocity= (0,0)\n",
      "Moving Car 14 from (80,138) to (80,144) velocity= (0,6)\n",
      "Moving Car 15 from (20,138) to (20,144) velocity= (0,6)\n",
      "Moving Car 16 from (20,90) to (20,96) velocity= (0,6)\n",
      "Moving Car 17 from (80,90) to (80,96) velocity= (0,6)\n",
      "Moving Car 18 from (80,42) to (80,48) velocity= (0,6)\n",
      "Moving Car 19 from (50,42) to (50,48) velocity= (0,6)\n"
     ]
    },
    {
     "name": "stderr",
     "output_type": "stream",
     "text": [
      "127.0.0.1 - - [28/Nov/2022 12:27:29] \"GET /position HTTP/1.1\" 200 -\n"
     ]
    },
    {
     "name": "stdout",
     "output_type": "stream",
     "text": [
      "Moving Car 5 from (50,82) to (50,82) velocity= (0,0)\n",
      "Moving Car 6 from (50,79) to (50,79) velocity= (0,0)\n",
      "Moving Car 12 from (20,192) to (20,198) velocity= (0,6)\n",
      "Moving Car 13 from (50,76) to (50,76) velocity= (0,0)\n",
      "Moving Car 14 from (80,144) to (80,150) velocity= (0,6)\n",
      "Moving Car 15 from (20,144) to (20,150) velocity= (0,6)\n",
      "Moving Car 16 from (20,96) to (20,102) velocity= (0,6)\n",
      "Moving Car 17 from (80,96) to (80,102) velocity= (0,6)\n",
      "Moving Car 18 from (80,48) to (80,54) velocity= (0,6)\n",
      "Moving Car 19 from (50,48) to (50,54) velocity= (0,6)\n",
      "Moving Car 20 from (50,0) to (50,6) velocity= (0,6)\n",
      "Moving Car 21 from (20,0) to (20,6) velocity= (0,6)\n"
     ]
    },
    {
     "name": "stderr",
     "output_type": "stream",
     "text": [
      "127.0.0.1 - - [28/Nov/2022 12:27:29] \"GET /position HTTP/1.1\" 200 -\n"
     ]
    },
    {
     "name": "stdout",
     "output_type": "stream",
     "text": [
      "Moving Car 5 from (50,82) to (50,82) velocity= (0,0)\n",
      "Moving Car 6 from (50,79) to (50,79) velocity= (0,0)\n",
      "Moving Car 12 from (20,198) to (20,204) velocity= (0,6)\n",
      "Moving Car 13 from (50,76) to (50,76) velocity= (0,0)\n",
      "Moving Car 14 from (80,150) to (80,156) velocity= (0,6)\n",
      "Moving Car 15 from (20,150) to (20,156) velocity= (0,6)\n",
      "Moving Car 16 from (20,102) to (20,108) velocity= (0,6)\n",
      "Moving Car 17 from (80,102) to (80,108) velocity= (0,6)\n",
      "Moving Car 18 from (80,54) to (80,60) velocity= (0,6)\n",
      "The car in the line 50 Can Crash aahhh\n",
      "NewLine Decision 20\n",
      "CHANGING LINE 50 to 20\n",
      "Moving Car 19 from (50,54) to (50,60) velocity= (0,6)\n",
      "Moving Car 20 from (50,6) to (50,12) velocity= (0,6)\n",
      "Moving Car 21 from (20,6) to (20,12) velocity= (0,6)\n"
     ]
    },
    {
     "name": "stderr",
     "output_type": "stream",
     "text": [
      "127.0.0.1 - - [28/Nov/2022 12:27:30] \"GET /position HTTP/1.1\" 200 -\n"
     ]
    },
    {
     "name": "stdout",
     "output_type": "stream",
     "text": [
      "Moving Car 5 from (50,82) to (50,82) velocity= (0,0)\n",
      "Moving Car 6 from (50,79) to (50,79) velocity= (0,0)\n",
      "Moving Car 13 from (50,76) to (50,76) velocity= (0,0)\n",
      "Moving Car 14 from (80,156) to (80,162) velocity= (0,6)\n",
      "Moving Car 15 from (20,156) to (20,162) velocity= (0,6)\n",
      "Moving Car 16 from (20,108) to (20,114) velocity= (0,6)\n",
      "Moving Car 17 from (80,108) to (80,114) velocity= (0,6)\n",
      "Moving Car 18 from (80,60) to (80,66) velocity= (0,6)\n",
      "Moving Car 19 from (50,60) to (45,66) velocity= (-5,6)\n",
      "Moving Car 20 from (50,12) to (50,18) velocity= (0,6)\n",
      "Moving Car 21 from (20,12) to (20,18) velocity= (0,6)\n"
     ]
    },
    {
     "name": "stderr",
     "output_type": "stream",
     "text": [
      "127.0.0.1 - - [28/Nov/2022 12:27:30] \"GET /position HTTP/1.1\" 200 -\n"
     ]
    },
    {
     "name": "stdout",
     "output_type": "stream",
     "text": [
      "Moving Car 5 from (50,82) to (50,82) velocity= (0,0)\n",
      "Moving Car 6 from (50,79) to (50,79) velocity= (0,0)\n",
      "Moving Car 13 from (50,76) to (50,76) velocity= (0,0)\n",
      "Moving Car 14 from (80,162) to (80,168) velocity= (0,6)\n",
      "Moving Car 15 from (20,162) to (20,168) velocity= (0,6)\n",
      "Moving Car 16 from (20,114) to (20,120) velocity= (0,6)\n",
      "Moving Car 17 from (80,114) to (80,120) velocity= (0,6)\n",
      "Moving Car 18 from (80,66) to (80,72) velocity= (0,6)\n",
      "Moving Car 19 from (45,66) to (40,72) velocity= (-5,6)\n",
      "Moving Car 20 from (50,18) to (50,24) velocity= (0,6)\n",
      "Moving Car 21 from (20,18) to (20,24) velocity= (0,6)\n"
     ]
    },
    {
     "name": "stderr",
     "output_type": "stream",
     "text": [
      "127.0.0.1 - - [28/Nov/2022 12:27:31] \"GET /position HTTP/1.1\" 200 -\n"
     ]
    },
    {
     "name": "stdout",
     "output_type": "stream",
     "text": [
      "Moving Car 5 from (50,82) to (50,82) velocity= (0,0)\n",
      "Moving Car 6 from (50,79) to (50,79) velocity= (0,0)\n",
      "Moving Car 13 from (50,76) to (50,76) velocity= (0,0)\n",
      "Moving Car 14 from (80,168) to (80,174) velocity= (0,6)\n",
      "Moving Car 15 from (20,168) to (20,174) velocity= (0,6)\n",
      "Moving Car 16 from (20,120) to (20,126) velocity= (0,6)\n",
      "Moving Car 17 from (80,120) to (80,126) velocity= (0,6)\n",
      "Moving Car 18 from (80,72) to (80,78) velocity= (0,6)\n",
      "Moving Car 19 from (40,72) to (35,78) velocity= (-5,6)\n",
      "Moving Car 20 from (50,24) to (50,30) velocity= (0,6)\n",
      "Moving Car 21 from (20,24) to (20,30) velocity= (0,6)\n"
     ]
    },
    {
     "name": "stderr",
     "output_type": "stream",
     "text": [
      "127.0.0.1 - - [28/Nov/2022 12:27:31] \"GET /position HTTP/1.1\" 200 -\n"
     ]
    },
    {
     "name": "stdout",
     "output_type": "stream",
     "text": [
      "Moving Car 5 from (50,82) to (50,82) velocity= (0,0)\n",
      "Moving Car 6 from (50,79) to (50,79) velocity= (0,0)\n",
      "Moving Car 13 from (50,76) to (50,76) velocity= (0,0)\n",
      "Moving Car 14 from (80,174) to (80,180) velocity= (0,6)\n",
      "Moving Car 15 from (20,174) to (20,180) velocity= (0,6)\n",
      "Moving Car 16 from (20,126) to (20,132) velocity= (0,6)\n",
      "Moving Car 17 from (80,126) to (80,132) velocity= (0,6)\n",
      "Moving Car 18 from (80,78) to (80,84) velocity= (0,6)\n",
      "Moving Car 19 from (35,78) to (30,84) velocity= (-5,6)\n",
      "Moving Car 20 from (50,30) to (50,36) velocity= (0,6)\n",
      "Moving Car 21 from (20,30) to (20,36) velocity= (0,6)\n"
     ]
    },
    {
     "name": "stderr",
     "output_type": "stream",
     "text": [
      "127.0.0.1 - - [28/Nov/2022 12:27:31] \"GET /position HTTP/1.1\" 200 -\n"
     ]
    },
    {
     "name": "stdout",
     "output_type": "stream",
     "text": [
      "Moving Car 5 from (50,82) to (50,82) velocity= (0,0)\n",
      "Moving Car 6 from (50,79) to (50,79) velocity= (0,0)\n",
      "Moving Car 13 from (50,76) to (50,76) velocity= (0,0)\n",
      "Moving Car 14 from (80,180) to (80,186) velocity= (0,6)\n",
      "Moving Car 15 from (20,180) to (20,186) velocity= (0,6)\n",
      "Moving Car 16 from (20,132) to (20,138) velocity= (0,6)\n",
      "Moving Car 17 from (80,132) to (80,138) velocity= (0,6)\n",
      "Moving Car 18 from (80,84) to (80,90) velocity= (0,6)\n",
      "Moving Car 19 from (30,84) to (25,90) velocity= (-5,6)\n",
      "Moving Car 20 from (50,36) to (50,42) velocity= (0,6)\n",
      "Moving Car 21 from (20,36) to (20,42) velocity= (0,6)\n"
     ]
    },
    {
     "name": "stderr",
     "output_type": "stream",
     "text": [
      "127.0.0.1 - - [28/Nov/2022 12:27:32] \"GET /position HTTP/1.1\" 200 -\n"
     ]
    },
    {
     "name": "stdout",
     "output_type": "stream",
     "text": [
      "Moving Car 5 from (50,82) to (50,82) velocity= (0,0)\n",
      "Moving Car 6 from (50,79) to (50,79) velocity= (0,0)\n",
      "Moving Car 13 from (50,76) to (50,76) velocity= (0,0)\n",
      "Moving Car 14 from (80,186) to (80,192) velocity= (0,6)\n",
      "Moving Car 15 from (20,186) to (20,192) velocity= (0,6)\n",
      "Moving Car 16 from (20,138) to (20,144) velocity= (0,6)\n",
      "Moving Car 17 from (80,138) to (80,144) velocity= (0,6)\n",
      "Moving Car 18 from (80,90) to (80,96) velocity= (0,6)\n",
      "Moving Car 19 from (25,90) to (20,96) velocity= (-5,6)\n",
      "Moving Car 20 from (50,42) to (50,48) velocity= (0,6)\n",
      "Moving Car 21 from (20,42) to (20,48) velocity= (0,6)\n"
     ]
    },
    {
     "name": "stderr",
     "output_type": "stream",
     "text": [
      "127.0.0.1 - - [28/Nov/2022 12:27:32] \"GET /position HTTP/1.1\" 200 -\n"
     ]
    },
    {
     "name": "stdout",
     "output_type": "stream",
     "text": [
      "Moving Car 5 from (50,82) to (50,82) velocity= (0,0)\n",
      "Moving Car 6 from (50,79) to (50,79) velocity= (0,0)\n",
      "Moving Car 13 from (50,76) to (50,76) velocity= (0,0)\n",
      "Moving Car 14 from (80,192) to (80,198) velocity= (0,6)\n",
      "Moving Car 15 from (20,192) to (20,198) velocity= (0,6)\n",
      "Moving Car 16 from (20,144) to (20,150) velocity= (0,6)\n",
      "Moving Car 17 from (80,144) to (80,150) velocity= (0,6)\n",
      "Moving Car 18 from (80,96) to (80,102) velocity= (0,6)\n",
      "CHANGE LINE SUCCESSFULL\n",
      "Moving Car 19 from (20,96) to (20,102) velocity= (0,6)\n",
      "Moving Car 20 from (50,48) to (50,54) velocity= (0,6)\n",
      "Moving Car 21 from (20,48) to (20,54) velocity= (0,6)\n",
      "Moving Car 22 from (20,0) to (20,6) velocity= (0,6)\n",
      "Moving Car 23 from (80,0) to (80,6) velocity= (0,6)\n"
     ]
    },
    {
     "name": "stderr",
     "output_type": "stream",
     "text": [
      "127.0.0.1 - - [28/Nov/2022 12:27:32] \"GET /position HTTP/1.1\" 200 -\n"
     ]
    },
    {
     "name": "stdout",
     "output_type": "stream",
     "text": [
      "Moving Car 5 from (50,82) to (50,82) velocity= (0,0)\n",
      "Moving Car 6 from (50,79) to (50,79) velocity= (0,0)\n",
      "Moving Car 13 from (50,76) to (50,76) velocity= (0,0)\n",
      "Moving Car 14 from (80,198) to (80,204) velocity= (0,6)\n",
      "Moving Car 15 from (20,198) to (20,204) velocity= (0,6)\n",
      "Moving Car 16 from (20,150) to (20,156) velocity= (0,6)\n",
      "Moving Car 17 from (80,150) to (80,156) velocity= (0,6)\n",
      "Moving Car 18 from (80,102) to (80,108) velocity= (0,6)\n",
      "CHANGE LINE SUCCESSFULL\n",
      "Moving Car 19 from (20,102) to (20,108) velocity= (0,6)\n",
      "The car in the line 50 Can Crash aahhh\n",
      "NewLine Decision 80\n",
      "CHANGING LINE 50 to 80\n",
      "Moving Car 20 from (50,54) to (50,60) velocity= (0,6)\n",
      "Moving Car 21 from (20,54) to (20,60) velocity= (0,6)\n",
      "Moving Car 22 from (20,6) to (20,12) velocity= (0,6)\n",
      "Moving Car 23 from (80,6) to (80,12) velocity= (0,6)\n"
     ]
    },
    {
     "name": "stderr",
     "output_type": "stream",
     "text": [
      "127.0.0.1 - - [28/Nov/2022 12:27:33] \"GET /position HTTP/1.1\" 200 -\n"
     ]
    },
    {
     "name": "stdout",
     "output_type": "stream",
     "text": [
      "Moving Car 5 from (50,82) to (50,82) velocity= (0,0)\n",
      "Moving Car 6 from (50,79) to (50,79) velocity= (0,0)\n",
      "Moving Car 13 from (50,76) to (50,76) velocity= (0,0)\n",
      "Moving Car 16 from (20,156) to (20,162) velocity= (0,6)\n",
      "Moving Car 17 from (80,156) to (80,162) velocity= (0,6)\n",
      "Moving Car 18 from (80,108) to (80,114) velocity= (0,6)\n",
      "CHANGE LINE SUCCESSFULL\n",
      "Moving Car 19 from (20,108) to (20,114) velocity= (0,6)\n",
      "Moving Car 20 from (50,60) to (55,66) velocity= (5,6)\n",
      "Moving Car 21 from (20,60) to (20,66) velocity= (0,6)\n",
      "Moving Car 22 from (20,12) to (20,18) velocity= (0,6)\n",
      "Moving Car 23 from (80,12) to (80,18) velocity= (0,6)\n"
     ]
    },
    {
     "name": "stderr",
     "output_type": "stream",
     "text": [
      "127.0.0.1 - - [28/Nov/2022 12:27:33] \"GET /position HTTP/1.1\" 200 -\n"
     ]
    },
    {
     "name": "stdout",
     "output_type": "stream",
     "text": [
      "Moving Car 5 from (50,82) to (50,82) velocity= (0,0)\n",
      "Moving Car 6 from (50,79) to (50,79) velocity= (0,0)\n",
      "Moving Car 13 from (50,76) to (50,76) velocity= (0,0)\n",
      "Moving Car 16 from (20,162) to (20,168) velocity= (0,6)\n",
      "Moving Car 17 from (80,162) to (80,168) velocity= (0,6)\n",
      "Moving Car 18 from (80,114) to (80,120) velocity= (0,6)\n",
      "CHANGE LINE SUCCESSFULL\n",
      "Moving Car 19 from (20,114) to (20,120) velocity= (0,6)\n",
      "Moving Car 20 from (55,66) to (60,72) velocity= (5,6)\n",
      "Moving Car 21 from (20,66) to (20,72) velocity= (0,6)\n",
      "Moving Car 22 from (20,18) to (20,24) velocity= (0,6)\n",
      "Moving Car 23 from (80,18) to (80,24) velocity= (0,6)\n"
     ]
    },
    {
     "name": "stderr",
     "output_type": "stream",
     "text": [
      "127.0.0.1 - - [28/Nov/2022 12:27:33] \"GET /position HTTP/1.1\" 200 -\n"
     ]
    },
    {
     "name": "stdout",
     "output_type": "stream",
     "text": [
      "Moving Car 5 from (50,82) to (50,82) velocity= (0,0)\n",
      "Moving Car 6 from (50,79) to (50,79) velocity= (0,0)\n",
      "Moving Car 13 from (50,76) to (50,76) velocity= (0,0)\n",
      "Moving Car 16 from (20,168) to (20,174) velocity= (0,6)\n",
      "Moving Car 17 from (80,168) to (80,174) velocity= (0,6)\n",
      "Moving Car 18 from (80,120) to (80,126) velocity= (0,6)\n",
      "CHANGE LINE SUCCESSFULL\n",
      "Moving Car 19 from (20,120) to (20,126) velocity= (0,6)\n",
      "Moving Car 20 from (60,72) to (65,78) velocity= (5,6)\n",
      "Moving Car 21 from (20,72) to (20,78) velocity= (0,6)\n",
      "Moving Car 22 from (20,24) to (20,30) velocity= (0,6)\n",
      "Moving Car 23 from (80,24) to (80,30) velocity= (0,6)\n"
     ]
    },
    {
     "name": "stderr",
     "output_type": "stream",
     "text": [
      "127.0.0.1 - - [28/Nov/2022 12:27:34] \"GET /position HTTP/1.1\" 200 -\n"
     ]
    },
    {
     "name": "stdout",
     "output_type": "stream",
     "text": [
      "Moving Car 5 from (50,82) to (50,82) velocity= (0,0)\n",
      "Moving Car 6 from (50,79) to (50,79) velocity= (0,0)\n",
      "Moving Car 13 from (50,76) to (50,76) velocity= (0,0)\n",
      "Moving Car 16 from (20,174) to (20,180) velocity= (0,6)\n",
      "Moving Car 17 from (80,174) to (80,180) velocity= (0,6)\n",
      "Moving Car 18 from (80,126) to (80,132) velocity= (0,6)\n",
      "CHANGE LINE SUCCESSFULL\n",
      "Moving Car 19 from (20,126) to (20,132) velocity= (0,6)\n",
      "Moving Car 20 from (65,78) to (70,84) velocity= (5,6)\n",
      "Moving Car 21 from (20,78) to (20,84) velocity= (0,6)\n",
      "Moving Car 22 from (20,30) to (20,36) velocity= (0,6)\n",
      "Moving Car 23 from (80,30) to (80,36) velocity= (0,6)\n"
     ]
    },
    {
     "name": "stderr",
     "output_type": "stream",
     "text": [
      "127.0.0.1 - - [28/Nov/2022 12:27:34] \"GET /position HTTP/1.1\" 200 -\n"
     ]
    },
    {
     "name": "stdout",
     "output_type": "stream",
     "text": [
      "Moving Car 5 from (50,82) to (50,82) velocity= (0,0)\n",
      "Moving Car 6 from (50,79) to (50,79) velocity= (0,0)\n",
      "Moving Car 13 from (50,76) to (50,76) velocity= (0,0)\n",
      "Moving Car 16 from (20,180) to (20,186) velocity= (0,6)\n",
      "Moving Car 17 from (80,180) to (80,186) velocity= (0,6)\n",
      "Moving Car 18 from (80,132) to (80,138) velocity= (0,6)\n",
      "CHANGE LINE SUCCESSFULL\n",
      "Moving Car 19 from (20,132) to (20,138) velocity= (0,6)\n",
      "Moving Car 20 from (70,84) to (75,90) velocity= (5,6)\n",
      "Moving Car 21 from (20,84) to (20,90) velocity= (0,6)\n",
      "Moving Car 22 from (20,36) to (20,42) velocity= (0,6)\n",
      "Moving Car 23 from (80,36) to (80,42) velocity= (0,6)\n"
     ]
    },
    {
     "name": "stderr",
     "output_type": "stream",
     "text": [
      "127.0.0.1 - - [28/Nov/2022 12:27:35] \"GET /position HTTP/1.1\" 200 -\n"
     ]
    },
    {
     "name": "stdout",
     "output_type": "stream",
     "text": [
      "Moving Car 5 from (50,82) to (50,82) velocity= (0,0)\n",
      "Moving Car 6 from (50,79) to (50,79) velocity= (0,0)\n",
      "Moving Car 13 from (50,76) to (50,76) velocity= (0,0)\n",
      "Moving Car 16 from (20,186) to (20,192) velocity= (0,6)\n",
      "Moving Car 17 from (80,186) to (80,192) velocity= (0,6)\n",
      "Moving Car 18 from (80,138) to (80,144) velocity= (0,6)\n",
      "CHANGE LINE SUCCESSFULL\n",
      "Moving Car 19 from (20,138) to (20,144) velocity= (0,6)\n",
      "Moving Car 20 from (75,90) to (80,96) velocity= (5,6)\n",
      "Moving Car 21 from (20,90) to (20,96) velocity= (0,6)\n",
      "Moving Car 22 from (20,42) to (20,48) velocity= (0,6)\n",
      "Moving Car 23 from (80,42) to (80,48) velocity= (0,6)\n"
     ]
    },
    {
     "name": "stderr",
     "output_type": "stream",
     "text": [
      "127.0.0.1 - - [28/Nov/2022 12:27:35] \"GET /position HTTP/1.1\" 200 -\n"
     ]
    },
    {
     "name": "stdout",
     "output_type": "stream",
     "text": [
      "Moving Car 5 from (50,82) to (50,82) velocity= (0,0)\n",
      "Moving Car 6 from (50,79) to (50,79) velocity= (0,0)\n",
      "Moving Car 13 from (50,76) to (50,76) velocity= (0,0)\n",
      "Moving Car 16 from (20,192) to (20,198) velocity= (0,6)\n",
      "Moving Car 17 from (80,192) to (80,198) velocity= (0,6)\n",
      "Moving Car 18 from (80,144) to (80,150) velocity= (0,6)\n",
      "CHANGE LINE SUCCESSFULL\n",
      "Moving Car 19 from (20,144) to (20,150) velocity= (0,6)\n",
      "CHANGE LINE SUCCESSFULL\n",
      "Moving Car 20 from (80,96) to (80,102) velocity= (0,6)\n",
      "Moving Car 21 from (20,96) to (20,102) velocity= (0,6)\n",
      "Moving Car 22 from (20,48) to (20,54) velocity= (0,6)\n",
      "Moving Car 23 from (80,48) to (80,54) velocity= (0,6)\n",
      "Moving Car 24 from (80,0) to (80,6) velocity= (0,6)\n",
      "Moving Car 25 from (20,0) to (20,6) velocity= (0,6)\n"
     ]
    },
    {
     "name": "stderr",
     "output_type": "stream",
     "text": [
      "127.0.0.1 - - [28/Nov/2022 12:27:36] \"GET /position HTTP/1.1\" 200 -\n"
     ]
    },
    {
     "name": "stdout",
     "output_type": "stream",
     "text": [
      "Moving Car 5 from (50,82) to (50,82) velocity= (0,0)\n",
      "Moving Car 6 from (50,79) to (50,79) velocity= (0,0)\n",
      "Moving Car 13 from (50,76) to (50,76) velocity= (0,0)\n",
      "Moving Car 16 from (20,198) to (20,204) velocity= (0,6)\n",
      "Moving Car 17 from (80,198) to (80,204) velocity= (0,6)\n",
      "Moving Car 18 from (80,150) to (80,156) velocity= (0,6)\n",
      "CHANGE LINE SUCCESSFULL\n",
      "Moving Car 19 from (20,150) to (20,156) velocity= (0,6)\n",
      "CHANGE LINE SUCCESSFULL\n",
      "Moving Car 20 from (80,102) to (80,108) velocity= (0,6)\n",
      "Moving Car 21 from (20,102) to (20,108) velocity= (0,6)\n",
      "Moving Car 22 from (20,54) to (20,60) velocity= (0,6)\n",
      "Moving Car 23 from (80,54) to (80,60) velocity= (0,6)\n",
      "Moving Car 24 from (80,6) to (80,12) velocity= (0,6)\n",
      "Moving Car 25 from (20,6) to (20,12) velocity= (0,6)\n"
     ]
    },
    {
     "name": "stderr",
     "output_type": "stream",
     "text": [
      "127.0.0.1 - - [28/Nov/2022 12:27:36] \"GET /position HTTP/1.1\" 200 -\n"
     ]
    },
    {
     "name": "stdout",
     "output_type": "stream",
     "text": [
      "Moving Car 5 from (50,82) to (50,82) velocity= (0,0)\n",
      "Moving Car 6 from (50,79) to (50,79) velocity= (0,0)\n",
      "Moving Car 13 from (50,76) to (50,76) velocity= (0,0)\n",
      "Moving Car 18 from (80,156) to (80,162) velocity= (0,6)\n",
      "CHANGE LINE SUCCESSFULL\n",
      "Moving Car 19 from (20,156) to (20,162) velocity= (0,6)\n",
      "CHANGE LINE SUCCESSFULL\n",
      "Moving Car 20 from (80,108) to (80,114) velocity= (0,6)\n",
      "Moving Car 21 from (20,108) to (20,114) velocity= (0,6)\n",
      "Moving Car 22 from (20,60) to (20,66) velocity= (0,6)\n",
      "Moving Car 23 from (80,60) to (80,66) velocity= (0,6)\n",
      "Moving Car 24 from (80,12) to (80,18) velocity= (0,6)\n",
      "Moving Car 25 from (20,12) to (20,18) velocity= (0,6)\n"
     ]
    },
    {
     "name": "stderr",
     "output_type": "stream",
     "text": [
      "127.0.0.1 - - [28/Nov/2022 12:27:36] \"GET /position HTTP/1.1\" 200 -\n"
     ]
    },
    {
     "name": "stdout",
     "output_type": "stream",
     "text": [
      "Moving Car 5 from (50,82) to (50,82) velocity= (0,0)\n",
      "Moving Car 6 from (50,79) to (50,79) velocity= (0,0)\n",
      "Moving Car 13 from (50,76) to (50,76) velocity= (0,0)\n",
      "Moving Car 18 from (80,162) to (80,168) velocity= (0,6)\n",
      "CHANGE LINE SUCCESSFULL\n",
      "Moving Car 19 from (20,162) to (20,168) velocity= (0,6)\n",
      "CHANGE LINE SUCCESSFULL\n",
      "Moving Car 20 from (80,114) to (80,120) velocity= (0,6)\n",
      "Moving Car 21 from (20,114) to (20,120) velocity= (0,6)\n",
      "Moving Car 22 from (20,66) to (20,72) velocity= (0,6)\n",
      "Moving Car 23 from (80,66) to (80,72) velocity= (0,6)\n",
      "Moving Car 24 from (80,18) to (80,24) velocity= (0,6)\n",
      "Moving Car 25 from (20,18) to (20,24) velocity= (0,6)\n"
     ]
    },
    {
     "name": "stderr",
     "output_type": "stream",
     "text": [
      "127.0.0.1 - - [28/Nov/2022 12:27:36] \"GET /position HTTP/1.1\" 200 -\n"
     ]
    },
    {
     "name": "stdout",
     "output_type": "stream",
     "text": [
      "Moving Car 5 from (50,82) to (50,82) velocity= (0,0)\n",
      "Moving Car 6 from (50,79) to (50,79) velocity= (0,0)\n",
      "Moving Car 13 from (50,76) to (50,76) velocity= (0,0)\n",
      "Moving Car 18 from (80,168) to (80,174) velocity= (0,6)\n",
      "CHANGE LINE SUCCESSFULL\n",
      "Moving Car 19 from (20,168) to (20,174) velocity= (0,6)\n",
      "CHANGE LINE SUCCESSFULL\n",
      "Moving Car 20 from (80,120) to (80,126) velocity= (0,6)\n",
      "Moving Car 21 from (20,120) to (20,126) velocity= (0,6)\n",
      "Moving Car 22 from (20,72) to (20,78) velocity= (0,6)\n",
      "Moving Car 23 from (80,72) to (80,78) velocity= (0,6)\n",
      "Moving Car 24 from (80,24) to (80,30) velocity= (0,6)\n",
      "Moving Car 25 from (20,24) to (20,30) velocity= (0,6)\n"
     ]
    },
    {
     "name": "stderr",
     "output_type": "stream",
     "text": [
      "127.0.0.1 - - [28/Nov/2022 12:27:37] \"GET /position HTTP/1.1\" 200 -\n"
     ]
    },
    {
     "name": "stdout",
     "output_type": "stream",
     "text": [
      "Moving Car 5 from (50,82) to (50,82) velocity= (0,0)\n",
      "Moving Car 6 from (50,79) to (50,79) velocity= (0,0)\n",
      "Moving Car 13 from (50,76) to (50,76) velocity= (0,0)\n",
      "Moving Car 18 from (80,174) to (80,180) velocity= (0,6)\n",
      "CHANGE LINE SUCCESSFULL\n",
      "Moving Car 19 from (20,174) to (20,180) velocity= (0,6)\n",
      "CHANGE LINE SUCCESSFULL\n",
      "Moving Car 20 from (80,126) to (80,132) velocity= (0,6)\n",
      "Moving Car 21 from (20,126) to (20,132) velocity= (0,6)\n",
      "Moving Car 22 from (20,78) to (20,84) velocity= (0,6)\n",
      "Moving Car 23 from (80,78) to (80,84) velocity= (0,6)\n",
      "Moving Car 24 from (80,30) to (80,36) velocity= (0,6)\n",
      "Moving Car 25 from (20,30) to (20,36) velocity= (0,6)\n"
     ]
    },
    {
     "name": "stderr",
     "output_type": "stream",
     "text": [
      "127.0.0.1 - - [28/Nov/2022 12:27:37] \"GET /position HTTP/1.1\" 200 -\n"
     ]
    },
    {
     "name": "stdout",
     "output_type": "stream",
     "text": [
      "Moving Car 5 from (50,82) to (50,82) velocity= (0,0)\n",
      "Moving Car 6 from (50,79) to (50,79) velocity= (0,0)\n",
      "Moving Car 13 from (50,76) to (50,76) velocity= (0,0)\n",
      "Moving Car 18 from (80,180) to (80,186) velocity= (0,6)\n",
      "CHANGE LINE SUCCESSFULL\n",
      "Moving Car 19 from (20,180) to (20,186) velocity= (0,6)\n",
      "CHANGE LINE SUCCESSFULL\n",
      "Moving Car 20 from (80,132) to (80,138) velocity= (0,6)\n",
      "Moving Car 21 from (20,132) to (20,138) velocity= (0,6)\n",
      "Moving Car 22 from (20,84) to (20,90) velocity= (0,6)\n",
      "Moving Car 23 from (80,84) to (80,90) velocity= (0,6)\n",
      "Moving Car 24 from (80,36) to (80,42) velocity= (0,6)\n",
      "Moving Car 25 from (20,36) to (20,42) velocity= (0,6)\n"
     ]
    },
    {
     "name": "stderr",
     "output_type": "stream",
     "text": [
      "127.0.0.1 - - [28/Nov/2022 12:27:37] \"GET /position HTTP/1.1\" 200 -\n"
     ]
    },
    {
     "name": "stdout",
     "output_type": "stream",
     "text": [
      "Moving Car 5 from (50,82) to (50,82) velocity= (0,0)\n",
      "Moving Car 6 from (50,79) to (50,79) velocity= (0,0)\n",
      "Moving Car 13 from (50,76) to (50,76) velocity= (0,0)\n",
      "Moving Car 18 from (80,186) to (80,192) velocity= (0,6)\n",
      "CHANGE LINE SUCCESSFULL\n",
      "Moving Car 19 from (20,186) to (20,192) velocity= (0,6)\n",
      "CHANGE LINE SUCCESSFULL\n",
      "Moving Car 20 from (80,138) to (80,144) velocity= (0,6)\n",
      "Moving Car 21 from (20,138) to (20,144) velocity= (0,6)\n",
      "Moving Car 22 from (20,90) to (20,96) velocity= (0,6)\n",
      "Moving Car 23 from (80,90) to (80,96) velocity= (0,6)\n",
      "Moving Car 24 from (80,42) to (80,48) velocity= (0,6)\n",
      "Moving Car 25 from (20,42) to (20,48) velocity= (0,6)\n"
     ]
    },
    {
     "name": "stderr",
     "output_type": "stream",
     "text": [
      "127.0.0.1 - - [28/Nov/2022 12:27:38] \"GET /position HTTP/1.1\" 200 -\n"
     ]
    },
    {
     "name": "stdout",
     "output_type": "stream",
     "text": [
      "Moving Car 5 from (50,82) to (50,82) velocity= (0,0)\n",
      "Moving Car 6 from (50,79) to (50,79) velocity= (0,0)\n",
      "Moving Car 13 from (50,76) to (50,76) velocity= (0,0)\n",
      "Moving Car 18 from (80,192) to (80,198) velocity= (0,6)\n",
      "CHANGE LINE SUCCESSFULL\n",
      "Moving Car 19 from (20,192) to (20,198) velocity= (0,6)\n",
      "CHANGE LINE SUCCESSFULL\n",
      "Moving Car 20 from (80,144) to (80,150) velocity= (0,6)\n",
      "Moving Car 21 from (20,144) to (20,150) velocity= (0,6)\n",
      "Moving Car 22 from (20,96) to (20,102) velocity= (0,6)\n",
      "Moving Car 23 from (80,96) to (80,102) velocity= (0,6)\n",
      "Moving Car 24 from (80,48) to (80,54) velocity= (0,6)\n",
      "Moving Car 25 from (20,48) to (20,54) velocity= (0,6)\n",
      "Moving Car 26 from (50,0) to (50,6) velocity= (0,6)\n",
      "Moving Car 27 from (80,0) to (80,6) velocity= (0,6)\n"
     ]
    },
    {
     "name": "stderr",
     "output_type": "stream",
     "text": [
      "127.0.0.1 - - [28/Nov/2022 12:27:38] \"GET /position HTTP/1.1\" 200 -\n"
     ]
    },
    {
     "name": "stdout",
     "output_type": "stream",
     "text": [
      "Moving Car 5 from (50,82) to (50,82) velocity= (0,0)\n",
      "Moving Car 6 from (50,79) to (50,79) velocity= (0,0)\n",
      "Moving Car 13 from (50,76) to (50,76) velocity= (0,0)\n",
      "Moving Car 18 from (80,198) to (80,204) velocity= (0,6)\n",
      "CHANGE LINE SUCCESSFULL\n",
      "Moving Car 19 from (20,198) to (20,204) velocity= (0,6)\n",
      "CHANGE LINE SUCCESSFULL\n",
      "Moving Car 20 from (80,150) to (80,156) velocity= (0,6)\n",
      "Moving Car 21 from (20,150) to (20,156) velocity= (0,6)\n",
      "Moving Car 22 from (20,102) to (20,108) velocity= (0,6)\n",
      "Moving Car 23 from (80,102) to (80,108) velocity= (0,6)\n",
      "Moving Car 24 from (80,54) to (80,60) velocity= (0,6)\n",
      "Moving Car 25 from (20,54) to (20,60) velocity= (0,6)\n",
      "Moving Car 26 from (50,6) to (50,12) velocity= (0,6)\n",
      "Moving Car 27 from (80,6) to (80,12) velocity= (0,6)\n"
     ]
    },
    {
     "name": "stderr",
     "output_type": "stream",
     "text": [
      "127.0.0.1 - - [28/Nov/2022 12:27:38] \"GET /position HTTP/1.1\" 200 -\n"
     ]
    },
    {
     "name": "stdout",
     "output_type": "stream",
     "text": [
      "Moving Car 5 from (50,82) to (50,82) velocity= (0,0)\n",
      "Moving Car 6 from (50,79) to (50,79) velocity= (0,0)\n",
      "Moving Car 13 from (50,76) to (50,76) velocity= (0,0)\n",
      "CHANGE LINE SUCCESSFULL\n",
      "Moving Car 20 from (80,156) to (80,162) velocity= (0,6)\n",
      "Moving Car 21 from (20,156) to (20,162) velocity= (0,6)\n",
      "Moving Car 22 from (20,108) to (20,114) velocity= (0,6)\n",
      "Moving Car 23 from (80,108) to (80,114) velocity= (0,6)\n",
      "Moving Car 24 from (80,60) to (80,66) velocity= (0,6)\n",
      "Moving Car 25 from (20,60) to (20,66) velocity= (0,6)\n",
      "Moving Car 26 from (50,12) to (50,18) velocity= (0,6)\n",
      "Moving Car 27 from (80,12) to (80,18) velocity= (0,6)\n"
     ]
    },
    {
     "name": "stderr",
     "output_type": "stream",
     "text": [
      "127.0.0.1 - - [28/Nov/2022 12:27:39] \"GET /position HTTP/1.1\" 200 -\n"
     ]
    },
    {
     "name": "stdout",
     "output_type": "stream",
     "text": [
      "Moving Car 5 from (50,82) to (50,82) velocity= (0,0)\n",
      "Moving Car 6 from (50,79) to (50,79) velocity= (0,0)\n",
      "Moving Car 13 from (50,76) to (50,76) velocity= (0,0)\n",
      "CHANGE LINE SUCCESSFULL\n",
      "Moving Car 20 from (80,162) to (80,168) velocity= (0,6)\n",
      "Moving Car 21 from (20,162) to (20,168) velocity= (0,6)\n",
      "Moving Car 22 from (20,114) to (20,120) velocity= (0,6)\n",
      "Moving Car 23 from (80,114) to (80,120) velocity= (0,6)\n",
      "Moving Car 24 from (80,66) to (80,72) velocity= (0,6)\n",
      "Moving Car 25 from (20,66) to (20,72) velocity= (0,6)\n",
      "Moving Car 26 from (50,18) to (50,24) velocity= (0,6)\n",
      "Moving Car 27 from (80,18) to (80,24) velocity= (0,6)\n"
     ]
    },
    {
     "name": "stderr",
     "output_type": "stream",
     "text": [
      "127.0.0.1 - - [28/Nov/2022 12:27:39] \"GET /position HTTP/1.1\" 200 -\n"
     ]
    },
    {
     "name": "stdout",
     "output_type": "stream",
     "text": [
      "Moving Car 5 from (50,82) to (50,82) velocity= (0,0)\n",
      "Moving Car 6 from (50,79) to (50,79) velocity= (0,0)\n",
      "Moving Car 13 from (50,76) to (50,76) velocity= (0,0)\n",
      "CHANGE LINE SUCCESSFULL\n",
      "Moving Car 20 from (80,168) to (80,174) velocity= (0,6)\n",
      "Moving Car 21 from (20,168) to (20,174) velocity= (0,6)\n",
      "Moving Car 22 from (20,120) to (20,126) velocity= (0,6)\n",
      "Moving Car 23 from (80,120) to (80,126) velocity= (0,6)\n",
      "Moving Car 24 from (80,72) to (80,78) velocity= (0,6)\n",
      "Moving Car 25 from (20,72) to (20,78) velocity= (0,6)\n",
      "Moving Car 26 from (50,24) to (50,30) velocity= (0,6)\n",
      "Moving Car 27 from (80,24) to (80,30) velocity= (0,6)\n"
     ]
    },
    {
     "name": "stderr",
     "output_type": "stream",
     "text": [
      "127.0.0.1 - - [28/Nov/2022 12:27:39] \"GET /position HTTP/1.1\" 200 -\n"
     ]
    },
    {
     "name": "stdout",
     "output_type": "stream",
     "text": [
      "Moving Car 5 from (50,82) to (50,82) velocity= (0,0)\n",
      "Moving Car 6 from (50,79) to (50,79) velocity= (0,0)\n",
      "Moving Car 13 from (50,76) to (50,76) velocity= (0,0)\n",
      "CHANGE LINE SUCCESSFULL\n",
      "Moving Car 20 from (80,174) to (80,180) velocity= (0,6)\n",
      "Moving Car 21 from (20,174) to (20,180) velocity= (0,6)\n",
      "Moving Car 22 from (20,126) to (20,132) velocity= (0,6)\n",
      "Moving Car 23 from (80,126) to (80,132) velocity= (0,6)\n",
      "Moving Car 24 from (80,78) to (80,84) velocity= (0,6)\n",
      "Moving Car 25 from (20,78) to (20,84) velocity= (0,6)\n",
      "Moving Car 26 from (50,30) to (50,36) velocity= (0,6)\n",
      "Moving Car 27 from (80,30) to (80,36) velocity= (0,6)\n"
     ]
    },
    {
     "name": "stderr",
     "output_type": "stream",
     "text": [
      "127.0.0.1 - - [28/Nov/2022 12:27:40] \"GET /position HTTP/1.1\" 200 -\n"
     ]
    },
    {
     "name": "stdout",
     "output_type": "stream",
     "text": [
      "Moving Car 5 from (50,82) to (50,82) velocity= (0,0)\n",
      "Moving Car 6 from (50,79) to (50,79) velocity= (0,0)\n",
      "Moving Car 13 from (50,76) to (50,76) velocity= (0,0)\n",
      "CHANGE LINE SUCCESSFULL\n",
      "Moving Car 20 from (80,180) to (80,186) velocity= (0,6)\n",
      "Moving Car 21 from (20,180) to (20,186) velocity= (0,6)\n",
      "Moving Car 22 from (20,132) to (20,138) velocity= (0,6)\n",
      "Moving Car 23 from (80,132) to (80,138) velocity= (0,6)\n",
      "Moving Car 24 from (80,84) to (80,90) velocity= (0,6)\n",
      "Moving Car 25 from (20,84) to (20,90) velocity= (0,6)\n",
      "Moving Car 26 from (50,36) to (50,42) velocity= (0,6)\n",
      "Moving Car 27 from (80,36) to (80,42) velocity= (0,6)\n"
     ]
    },
    {
     "name": "stderr",
     "output_type": "stream",
     "text": [
      "127.0.0.1 - - [28/Nov/2022 12:27:40] \"GET /position HTTP/1.1\" 200 -\n"
     ]
    },
    {
     "name": "stdout",
     "output_type": "stream",
     "text": [
      "Moving Car 5 from (50,82) to (50,82) velocity= (0,0)\n",
      "Moving Car 6 from (50,79) to (50,79) velocity= (0,0)\n",
      "Moving Car 13 from (50,76) to (50,76) velocity= (0,0)\n",
      "CHANGE LINE SUCCESSFULL\n",
      "Moving Car 20 from (80,186) to (80,192) velocity= (0,6)\n",
      "Moving Car 21 from (20,186) to (20,192) velocity= (0,6)\n",
      "Moving Car 22 from (20,138) to (20,144) velocity= (0,6)\n",
      "Moving Car 23 from (80,138) to (80,144) velocity= (0,6)\n",
      "Moving Car 24 from (80,90) to (80,96) velocity= (0,6)\n",
      "Moving Car 25 from (20,90) to (20,96) velocity= (0,6)\n",
      "Moving Car 26 from (50,42) to (50,48) velocity= (0,6)\n",
      "Moving Car 27 from (80,42) to (80,48) velocity= (0,6)\n"
     ]
    },
    {
     "name": "stderr",
     "output_type": "stream",
     "text": [
      "127.0.0.1 - - [28/Nov/2022 12:27:40] \"GET /position HTTP/1.1\" 200 -\n"
     ]
    },
    {
     "name": "stdout",
     "output_type": "stream",
     "text": [
      "Moving Car 5 from (50,82) to (50,82) velocity= (0,0)\n",
      "Moving Car 6 from (50,79) to (50,79) velocity= (0,0)\n",
      "Moving Car 13 from (50,76) to (50,76) velocity= (0,0)\n",
      "CHANGE LINE SUCCESSFULL\n",
      "Moving Car 20 from (80,192) to (80,198) velocity= (0,6)\n",
      "Moving Car 21 from (20,192) to (20,198) velocity= (0,6)\n",
      "Moving Car 22 from (20,144) to (20,150) velocity= (0,6)\n",
      "Moving Car 23 from (80,144) to (80,150) velocity= (0,6)\n",
      "Moving Car 24 from (80,96) to (80,102) velocity= (0,6)\n",
      "Moving Car 25 from (20,96) to (20,102) velocity= (0,6)\n",
      "Moving Car 26 from (50,48) to (50,54) velocity= (0,6)\n",
      "Moving Car 27 from (80,48) to (80,54) velocity= (0,6)\n",
      "Moving Car 28 from (80,0) to (80,6) velocity= (0,6)\n",
      "Moving Car 29 from (50,0) to (50,6) velocity= (0,6)\n"
     ]
    },
    {
     "name": "stderr",
     "output_type": "stream",
     "text": [
      "127.0.0.1 - - [28/Nov/2022 12:27:41] \"GET /position HTTP/1.1\" 200 -\n"
     ]
    },
    {
     "name": "stdout",
     "output_type": "stream",
     "text": [
      "Moving Car 5 from (50,82) to (50,82) velocity= (0,0)\n",
      "Moving Car 6 from (50,79) to (50,79) velocity= (0,0)\n",
      "Moving Car 13 from (50,76) to (50,76) velocity= (0,0)\n",
      "CHANGE LINE SUCCESSFULL\n",
      "Moving Car 20 from (80,198) to (80,204) velocity= (0,6)\n",
      "Moving Car 21 from (20,198) to (20,204) velocity= (0,6)\n",
      "Moving Car 22 from (20,150) to (20,156) velocity= (0,6)\n",
      "Moving Car 23 from (80,150) to (80,156) velocity= (0,6)\n",
      "Moving Car 24 from (80,102) to (80,108) velocity= (0,6)\n",
      "Moving Car 25 from (20,102) to (20,108) velocity= (0,6)\n",
      "The car in the line 50 Can Crash aahhh\n",
      "NewLine Decision 20\n",
      "CHANGING LINE 50 to 20\n",
      "Moving Car 26 from (50,54) to (50,60) velocity= (0,6)\n",
      "Moving Car 27 from (80,54) to (80,60) velocity= (0,6)\n",
      "Moving Car 28 from (80,6) to (80,12) velocity= (0,6)\n",
      "Moving Car 29 from (50,6) to (50,12) velocity= (0,6)\n"
     ]
    },
    {
     "name": "stderr",
     "output_type": "stream",
     "text": [
      "127.0.0.1 - - [28/Nov/2022 12:27:41] \"GET /position HTTP/1.1\" 200 -\n"
     ]
    },
    {
     "name": "stdout",
     "output_type": "stream",
     "text": [
      "Moving Car 5 from (50,82) to (50,82) velocity= (0,0)\n",
      "Moving Car 6 from (50,79) to (50,79) velocity= (0,0)\n",
      "Moving Car 13 from (50,76) to (50,76) velocity= (0,0)\n",
      "Moving Car 22 from (20,156) to (20,162) velocity= (0,6)\n",
      "Moving Car 23 from (80,156) to (80,162) velocity= (0,6)\n",
      "Moving Car 24 from (80,108) to (80,114) velocity= (0,6)\n",
      "Moving Car 25 from (20,108) to (20,114) velocity= (0,6)\n",
      "Moving Car 26 from (50,60) to (45,66) velocity= (-5,6)\n",
      "Moving Car 27 from (80,60) to (80,66) velocity= (0,6)\n",
      "Moving Car 28 from (80,12) to (80,18) velocity= (0,6)\n",
      "Moving Car 29 from (50,12) to (50,18) velocity= (0,6)\n"
     ]
    },
    {
     "name": "stderr",
     "output_type": "stream",
     "text": [
      "127.0.0.1 - - [28/Nov/2022 12:27:42] \"GET /position HTTP/1.1\" 200 -\n"
     ]
    },
    {
     "name": "stdout",
     "output_type": "stream",
     "text": [
      "Moving Car 5 from (50,82) to (50,82) velocity= (0,0)\n",
      "Moving Car 6 from (50,79) to (50,79) velocity= (0,0)\n",
      "Moving Car 13 from (50,76) to (50,76) velocity= (0,0)\n",
      "Moving Car 22 from (20,162) to (20,168) velocity= (0,6)\n",
      "Moving Car 23 from (80,162) to (80,168) velocity= (0,6)\n",
      "Moving Car 24 from (80,114) to (80,120) velocity= (0,6)\n",
      "Moving Car 25 from (20,114) to (20,120) velocity= (0,6)\n",
      "Moving Car 26 from (45,66) to (40,72) velocity= (-5,6)\n",
      "Moving Car 27 from (80,66) to (80,72) velocity= (0,6)\n",
      "Moving Car 28 from (80,18) to (80,24) velocity= (0,6)\n",
      "Moving Car 29 from (50,18) to (50,24) velocity= (0,6)\n"
     ]
    },
    {
     "name": "stderr",
     "output_type": "stream",
     "text": [
      "127.0.0.1 - - [28/Nov/2022 12:27:42] \"GET /position HTTP/1.1\" 200 -\n"
     ]
    },
    {
     "name": "stdout",
     "output_type": "stream",
     "text": [
      "Moving Car 5 from (50,82) to (50,82) velocity= (0,0)\n",
      "Moving Car 6 from (50,79) to (50,79) velocity= (0,0)\n",
      "Moving Car 13 from (50,76) to (50,76) velocity= (0,0)\n",
      "Moving Car 22 from (20,168) to (20,174) velocity= (0,6)\n",
      "Moving Car 23 from (80,168) to (80,174) velocity= (0,6)\n",
      "Moving Car 24 from (80,120) to (80,126) velocity= (0,6)\n",
      "Moving Car 25 from (20,120) to (20,126) velocity= (0,6)\n",
      "Moving Car 26 from (40,72) to (35,78) velocity= (-5,6)\n",
      "Moving Car 27 from (80,72) to (80,78) velocity= (0,6)\n",
      "Moving Car 28 from (80,24) to (80,30) velocity= (0,6)\n",
      "Moving Car 29 from (50,24) to (50,30) velocity= (0,6)\n"
     ]
    },
    {
     "name": "stderr",
     "output_type": "stream",
     "text": [
      "127.0.0.1 - - [28/Nov/2022 12:27:42] \"GET /position HTTP/1.1\" 200 -\n"
     ]
    },
    {
     "name": "stdout",
     "output_type": "stream",
     "text": [
      "Moving Car 5 from (50,82) to (50,82) velocity= (0,0)\n",
      "Moving Car 6 from (50,79) to (50,79) velocity= (0,0)\n",
      "Moving Car 13 from (50,76) to (50,76) velocity= (0,0)\n",
      "Moving Car 22 from (20,174) to (20,180) velocity= (0,6)\n",
      "Moving Car 23 from (80,174) to (80,180) velocity= (0,6)\n",
      "Moving Car 24 from (80,126) to (80,132) velocity= (0,6)\n",
      "Moving Car 25 from (20,126) to (20,132) velocity= (0,6)\n",
      "Moving Car 26 from (35,78) to (30,84) velocity= (-5,6)\n",
      "Moving Car 27 from (80,78) to (80,84) velocity= (0,6)\n",
      "Moving Car 28 from (80,30) to (80,36) velocity= (0,6)\n",
      "Moving Car 29 from (50,30) to (50,36) velocity= (0,6)\n"
     ]
    },
    {
     "name": "stderr",
     "output_type": "stream",
     "text": [
      "127.0.0.1 - - [28/Nov/2022 12:27:43] \"GET /position HTTP/1.1\" 200 -\n"
     ]
    },
    {
     "name": "stdout",
     "output_type": "stream",
     "text": [
      "Moving Car 5 from (50,82) to (50,82) velocity= (0,0)\n",
      "Moving Car 6 from (50,79) to (50,79) velocity= (0,0)\n",
      "Moving Car 13 from (50,76) to (50,76) velocity= (0,0)\n",
      "Moving Car 22 from (20,180) to (20,186) velocity= (0,6)\n",
      "Moving Car 23 from (80,180) to (80,186) velocity= (0,6)\n",
      "Moving Car 24 from (80,132) to (80,138) velocity= (0,6)\n",
      "Moving Car 25 from (20,132) to (20,138) velocity= (0,6)\n",
      "Moving Car 26 from (30,84) to (25,90) velocity= (-5,6)\n",
      "Moving Car 27 from (80,84) to (80,90) velocity= (0,6)\n",
      "Moving Car 28 from (80,36) to (80,42) velocity= (0,6)\n",
      "Moving Car 29 from (50,36) to (50,42) velocity= (0,6)\n"
     ]
    },
    {
     "name": "stderr",
     "output_type": "stream",
     "text": [
      "127.0.0.1 - - [28/Nov/2022 12:27:43] \"GET /position HTTP/1.1\" 200 -\n"
     ]
    },
    {
     "name": "stdout",
     "output_type": "stream",
     "text": [
      "Moving Car 5 from (50,82) to (50,82) velocity= (0,0)\n",
      "Moving Car 6 from (50,79) to (50,79) velocity= (0,0)\n",
      "Moving Car 13 from (50,76) to (50,76) velocity= (0,0)\n",
      "Moving Car 22 from (20,186) to (20,192) velocity= (0,6)\n",
      "Moving Car 23 from (80,186) to (80,192) velocity= (0,6)\n",
      "Moving Car 24 from (80,138) to (80,144) velocity= (0,6)\n",
      "Moving Car 25 from (20,138) to (20,144) velocity= (0,6)\n",
      "Moving Car 26 from (25,90) to (20,96) velocity= (-5,6)\n",
      "Moving Car 27 from (80,90) to (80,96) velocity= (0,6)\n",
      "Moving Car 28 from (80,42) to (80,48) velocity= (0,6)\n",
      "Moving Car 29 from (50,42) to (50,48) velocity= (0,6)\n"
     ]
    },
    {
     "name": "stderr",
     "output_type": "stream",
     "text": [
      "127.0.0.1 - - [28/Nov/2022 12:27:43] \"GET /position HTTP/1.1\" 200 -\n"
     ]
    },
    {
     "name": "stdout",
     "output_type": "stream",
     "text": [
      "Moving Car 5 from (50,82) to (50,82) velocity= (0,0)\n",
      "Moving Car 6 from (50,79) to (50,79) velocity= (0,0)\n",
      "Moving Car 13 from (50,76) to (50,76) velocity= (0,0)\n",
      "Moving Car 22 from (20,192) to (20,198) velocity= (0,6)\n",
      "Moving Car 23 from (80,192) to (80,198) velocity= (0,6)\n",
      "Moving Car 24 from (80,144) to (80,150) velocity= (0,6)\n",
      "Moving Car 25 from (20,144) to (20,150) velocity= (0,6)\n",
      "CHANGE LINE SUCCESSFULL\n",
      "Moving Car 26 from (20,96) to (20,102) velocity= (0,6)\n",
      "Moving Car 27 from (80,96) to (80,102) velocity= (0,6)\n",
      "Moving Car 28 from (80,48) to (80,54) velocity= (0,6)\n",
      "Moving Car 29 from (50,48) to (50,54) velocity= (0,6)\n",
      "Moving Car 30 from (80,0) to (80,6) velocity= (0,6)\n",
      "Moving Car 31 from (20,0) to (20,6) velocity= (0,6)\n"
     ]
    },
    {
     "name": "stderr",
     "output_type": "stream",
     "text": [
      "127.0.0.1 - - [28/Nov/2022 12:27:44] \"GET /position HTTP/1.1\" 200 -\n"
     ]
    },
    {
     "name": "stdout",
     "output_type": "stream",
     "text": [
      "Moving Car 5 from (50,82) to (50,82) velocity= (0,0)\n",
      "Moving Car 6 from (50,79) to (50,79) velocity= (0,0)\n",
      "Moving Car 13 from (50,76) to (50,76) velocity= (0,0)\n",
      "Moving Car 22 from (20,198) to (20,204) velocity= (0,6)\n",
      "Moving Car 23 from (80,198) to (80,204) velocity= (0,6)\n",
      "Moving Car 24 from (80,150) to (80,156) velocity= (0,6)\n",
      "Moving Car 25 from (20,150) to (20,156) velocity= (0,6)\n",
      "CHANGE LINE SUCCESSFULL\n",
      "Moving Car 26 from (20,102) to (20,108) velocity= (0,6)\n",
      "Moving Car 27 from (80,102) to (80,108) velocity= (0,6)\n",
      "Moving Car 28 from (80,54) to (80,60) velocity= (0,6)\n",
      "The car in the line 50 Can Crash aahhh\n",
      "NewLine Decision 20\n",
      "CHANGING LINE 50 to 20\n",
      "Moving Car 29 from (50,54) to (50,60) velocity= (0,6)\n",
      "Moving Car 30 from (80,6) to (80,12) velocity= (0,6)\n",
      "Moving Car 31 from (20,6) to (20,12) velocity= (0,6)\n"
     ]
    }
   ],
   "source": [
    "api = Flask(__name__)\n",
    "\n",
    "#return json.dumps(\"{ companyList:\"+companies+\"}\")\n",
    "@api.route('/position', methods=['GET'])\n",
    "def get_position():\n",
    "    #return json.dumps(companies)\n",
    "    return json.dumps(handleStep())\n",
    "if __name__ == '__main__':\n",
    "    api.run()"
   ]
  },
  {
   "cell_type": "code",
   "execution_count": null,
   "id": "8e41af57",
   "metadata": {},
   "outputs": [],
   "source": []
  },
  {
   "cell_type": "code",
   "execution_count": null,
   "id": "7038d26f",
   "metadata": {},
   "outputs": [],
   "source": []
  },
  {
   "cell_type": "code",
   "execution_count": null,
   "id": "baeafa74",
   "metadata": {},
   "outputs": [],
   "source": []
  },
  {
   "cell_type": "code",
   "execution_count": null,
   "id": "9bdb8bd9",
   "metadata": {},
   "outputs": [],
   "source": []
  },
  {
   "cell_type": "code",
   "execution_count": null,
   "id": "a2c60969",
   "metadata": {},
   "outputs": [],
   "source": []
  },
  {
   "cell_type": "code",
   "execution_count": null,
   "id": "7cb75573",
   "metadata": {},
   "outputs": [],
   "source": []
  },
  {
   "cell_type": "code",
   "execution_count": null,
   "id": "bdab7ae0",
   "metadata": {},
   "outputs": [],
   "source": []
  },
  {
   "cell_type": "code",
   "execution_count": null,
   "id": "ebd05409",
   "metadata": {},
   "outputs": [],
   "source": []
  },
  {
   "cell_type": "code",
   "execution_count": null,
   "id": "ff134770",
   "metadata": {},
   "outputs": [],
   "source": []
  },
  {
   "cell_type": "code",
   "execution_count": null,
   "id": "20df6a61",
   "metadata": {},
   "outputs": [],
   "source": []
  },
  {
   "cell_type": "code",
   "execution_count": null,
   "id": "939bb8f1",
   "metadata": {},
   "outputs": [],
   "source": []
  },
  {
   "cell_type": "code",
   "execution_count": null,
   "id": "fb34e673",
   "metadata": {},
   "outputs": [],
   "source": []
  }
 ],
 "metadata": {
  "kernelspec": {
   "display_name": "Python 3 (ipykernel)",
   "language": "python",
   "name": "python3"
  },
  "language_info": {
   "codemirror_mode": {
    "name": "ipython",
    "version": 3
   },
   "file_extension": ".py",
   "mimetype": "text/x-python",
   "name": "python",
   "nbconvert_exporter": "python",
   "pygments_lexer": "ipython3",
   "version": "3.9.5"
  }
 },
 "nbformat": 4,
 "nbformat_minor": 5
}
