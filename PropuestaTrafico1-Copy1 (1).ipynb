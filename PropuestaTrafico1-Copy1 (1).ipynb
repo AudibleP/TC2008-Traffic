{
 "cells": [
  {
   "cell_type": "markdown",
   "id": "ff0b354a",
   "metadata": {},
   "source": [
    "Importamos la librerias"
   ]
  },
  {
   "cell_type": "code",
   "execution_count": 1,
   "id": "f94e28b4",
   "metadata": {},
   "outputs": [],
   "source": [
    "from mesa import Agent, Model\n",
    "from mesa.time import SimultaneousActivation\n",
    "from mesa.space import SingleGrid\n",
    "from mesa.datacollection import DataCollector\n",
    "from mesa.batchrunner import BatchRunner\n",
    "\n",
    "# matplotlib lo vamos a utilizar para realizar una ''animación'' de mi modelo.\n",
    "import matplotlib\n",
    "import matplotlib.pyplot as plt\n",
    "import matplotlib.animation as animation\n",
    "plt.rcParams[\"animation.html\"] = \"jshtml\"\n",
    "matplotlib.rcParams['animation.embed_limit'] = 2**128\n",
    "\n",
    "import numpy as np\n",
    "import pandas as pd\n",
    "\n",
    "# Definimos otros paquete que vamos a usar para medir el tiempo de ejecución del modelo\n",
    "import time\n",
    "import datetime\n",
    "import random\n",
    "\n",
    "from flask import Flask, json"
   ]
  },
  {
   "cell_type": "code",
   "execution_count": null,
   "id": "54891a0c",
   "metadata": {},
   "outputs": [],
   "source": []
  },
  {
   "cell_type": "code",
   "execution_count": 2,
   "id": "d878ef6e",
   "metadata": {},
   "outputs": [],
   "source": [
    "def get_grid(model):\n",
    "    grid = np.zeros((model.grid.height, model.grid.width))\n",
    "    for ren in range(model.grid.height):\n",
    "        for col in range(model.grid.width):\n",
    "            if model.grid.is_cell_empty((col, ren)):\n",
    "                grid[ren][col] = 0\n",
    "            else:\n",
    "                grid[ren][col] = 1\n",
    "            \n",
    "    return grid"
   ]
  },
  {
   "cell_type": "code",
   "execution_count": 3,
   "id": "c853e220",
   "metadata": {},
   "outputs": [],
   "source": [
    "def get_pos(agent):\n",
    "    return [agent.my_id,agent.x,agent.y]"
   ]
  },
  {
   "cell_type": "markdown",
   "id": "86585ca2",
   "metadata": {},
   "source": [
    "Definimos el agente "
   ]
  },
  {
   "cell_type": "code",
   "execution_count": 4,
   "id": "5ba67a5f",
   "metadata": {},
   "outputs": [],
   "source": [
    "class CarAgent(Agent):\n",
    "    def __init__(self, unique_id, model,x,y,state, line):\n",
    "        super().__init__(unique_id, model)\n",
    "        self.my_id=unique_id\n",
    "        #Position\n",
    "        self.x=int(x)\n",
    "        self.y=int(y)\n",
    "        #Velocity\n",
    "        self.xvelocity=0\n",
    "        self.yvelocity=model.speedWayVelocity\n",
    "        self.visionRange=4\n",
    "        #States : stop , go , change\n",
    "        self.state=state\n",
    "        #Valor de x al que tienes que ir\n",
    "        self.line=line\n",
    "    \n",
    "        \n",
    "    def move(self):\n",
    "        print(\"Moving Car %i from (%i,%i) to (%i,%i) velocity= (%i,%i)\"%(self.my_id,self.x,self.y,int(self.xvelocity+self.x),int(self.yvelocity+self.y),self.xvelocity,self.yvelocity))\n",
    "        self.y=int(self.yvelocity+self.y)\n",
    "        self.x=int(self.x+self.xvelocity)\n",
    "        self.model.grid.move_agent(self, (self.x,self.y))\n",
    "        \n",
    "    def canCrash(self):\n",
    "        limit=int(self.y+self.visionRange*self.yvelocity)\n",
    "        #print(\"Range %f\" % (self.visionRange*self.yvelocity))\n",
    "        position = []\n",
    "        \n",
    "        for i in range(self.y + 1,limit):\n",
    "            newpos=(self.x, i)\n",
    "            if(self.model.grid.out_of_bounds(newpos)):\n",
    "                break\n",
    "            position.append(newpos)\n",
    "        #print(position)\n",
    "        #print(\"longitud\")\n",
    "        #print(len(self.model.grid.get_cell_list_contents(position)))\n",
    "        #print(self.model.grid.get_cell_list_contents(position))\n",
    "        #print(\"POSITION\")\n",
    "        #print(position)\n",
    "        return (len(self.model.grid.get_cell_list_contents(position))>0)\n",
    "        \n",
    "    \n",
    "    def brake(self):\n",
    "        self.xvelocity=int(self.xvelocity/2)\n",
    "        self.yvelocity=int(self.yvelocity/2)\n",
    "        \n",
    "    def auxReviewLine(self,xvalue):\n",
    "        dist=model.speedWayVelocity\n",
    "        backMargin=20\n",
    "        frontMargin=20\n",
    "        position = []\n",
    "        for i in range(int(self.y-backMargin), int( self.y + frontMargin)):\n",
    "            newpos=(xvalue, i)\n",
    "            if(model.grid.out_of_bounds(newpos)):\n",
    "                break\n",
    "            position.append(newpos)\n",
    "        return (len(self.model.grid.get_cell_list_contents(position))==0)\n",
    "            \n",
    "    def chooseLine(self):\n",
    "        left=0\n",
    "        right=0\n",
    "        myIndexLine=0\n",
    "        #print(\"Current line %i\"%self.line)\n",
    "        for i in range(len(model.lines)):\n",
    "            if(model.lines[i]==self.line):\n",
    "                myIndexLine=i\n",
    "                #print(\"Idenx found %i\"%i)\n",
    "                break\n",
    "                \n",
    "        if(myIndexLine!=2):\n",
    "            right=self.auxReviewLine(model.lines[myIndexLine+1])\n",
    "        if(myIndexLine!=0):\n",
    "            left=self.auxReviewLine(model.lines[myIndexLine-1])\n",
    "        if(left and right):\n",
    "            if(np.random.random(1)[0]<=0.5):\n",
    "                print(\"RANDOM CHOOSE LEFT x= %i\"%model.lines[myIndexLine-1])\n",
    "                return model.lines[myIndexLine-1]\n",
    "            else:\n",
    "                print(\"RANDOM CHOOSE RIHGT\")\n",
    "                print(\"RANDOM CHOOSE LEFT x= %i\"%model.lines[myIndexLine+1])\n",
    "                return model.lines[myIndexLine+1]\n",
    "        else:\n",
    "            if(left):\n",
    "                return model.lines[myIndexLine-1]\n",
    "            elif(right):\n",
    "                return model.lines[myIndexLine+1]\n",
    "        return 0\n",
    "    \n",
    "    def regulateVel(self,targetVel):\n",
    "        if(self.yvelocity == targetVel):\n",
    "            return\n",
    "        elif self.yvelocity >targetVel:\n",
    "            dif=self.yvelocity-targetVel\n",
    "            if dif<2:\n",
    "                self.yvelocity=targetVel\n",
    "            else:\n",
    "                self.yvelocity-=(2*dif/3) \n",
    "        elif self.yvelocity < targetVel:\n",
    "            dif=targetVel-self.yvelocity\n",
    "            if dif<2:\n",
    "                self.yvelocity=targetVel\n",
    "            else:\n",
    "                self.yvelocity +=(2*dif/3) \n",
    "                \n",
    "    def alignLine(self):\n",
    "        if(self.x == self.line):\n",
    "            self.xvelocity=0\n",
    "            return\n",
    "        elif(self.x<self.line):\n",
    "            self.xvelocity=1\n",
    "        elif(self.x>self.line):\n",
    "            self.xvelocity=1\n",
    "        \n",
    "\n",
    "    def step(self):\n",
    "        if (self.state==\"stop\"):\n",
    "            self.brake()\n",
    "        elif (self.state==\"go\"):\n",
    "            #self.regulateVel(model.speedWayVelocity)\n",
    "            self.alignLine()\n",
    "            if(self.canCrash()):\n",
    "                print(\"The car in the line %i Can Crash aahhh\"%self.line)\n",
    "                newLine=self.chooseLine()\n",
    "                print(\"NewLine Decision %i\"%newLine)\n",
    "\n",
    "                if(newLine != 0):\n",
    "                    self.state=\"changingLine\"\n",
    "                    print(\"CHANGING LINE %i to %i\"%(self.line,newLine))\n",
    "                    self.line=newLine\n",
    "                else:\n",
    "                    print(\"I can't change line, I'll brake\")\n",
    "                    self.brake()\n",
    "        elif (self.state==\"changingLine\"):\n",
    "            if(self.x == self.line):\n",
    "                print(\"CHANGE LINE SUCCESSFULL\")\n",
    "                self.state==\"go\"\n",
    "                self.xvelocity=0\n",
    "            elif(self.x<self.line):\n",
    "                self.xvelocity=5\n",
    "            elif(self.x>self.line):\n",
    "                self.xvelocity=-5\n",
    "            \n",
    "                    \n",
    "\n",
    "        #print(\"POS (%i,%i)\"%(self.x,self.y))\n",
    "        #print(\"VEL(%i,%i)\"%(self.xvelocity,self.yvelocity))\n",
    "       \n",
    "        self.move()\n",
    "\n",
    " "
   ]
  },
  {
   "cell_type": "markdown",
   "id": "c0b0b184",
   "metadata": {},
   "source": [
    "Definimos el modelo"
   ]
  },
  {
   "cell_type": "code",
   "execution_count": 5,
   "id": "07cc2811",
   "metadata": {},
   "outputs": [],
   "source": [
    "class highwayModel(Model):\n",
    "    def __init__(self,n, widht, height):\n",
    "        self.agentId=100;\n",
    "        self.num_agents = n\n",
    "        self.grid=SingleGrid(widht,height,True)\n",
    "        self.schedule = SimultaneousActivation(self)\n",
    "        self.lines=[20,50,80]\n",
    "        self.currentStep=0\n",
    "        \n",
    "        self.idCounter=0\n",
    "        \n",
    "        self.speedWayVelocity=6\n",
    "        #Generate Cars\n",
    "        self.generatorTime= 8\n",
    "        #numero de carros\n",
    "        self.numCarsGenerated = 2\n",
    "        #Incident\n",
    "        self.incidentStopCar=False\n",
    "        self.startIncident=20\n",
    "        self.time=0\n",
    "        \n",
    "        for i in range(self.num_agents):\n",
    "            # Add the agent to a random grid cell\n",
    "            x = self.random.randrange(self.grid.width)\n",
    "            y = self.random.randrange(self.grid.height)\n",
    "        \n",
    "            a = CarAgent(self.newId(), self,x,y,\"go\",20)\n",
    "            self.schedule.add(a)  \n",
    "            self.grid.place_agent(a, (x, y))\n",
    "        #self.createBarrier()\n",
    "        self.datacollector = DataCollector(model_reporters={\"Grid\": get_grid},agent_reporters={\"Positions\": get_pos})\n",
    "        \n",
    "    def newId(self):\n",
    "        self.idCounter+=1\n",
    "        return self.idCounter\n",
    "    \n",
    "    def deleteCarOutLimits(self):\n",
    "        ###  Cambiar este ciclo por recorrer la agenda\n",
    "        for (agent, x, y) in self.grid.coord_iter():\n",
    "            if not model.grid.is_cell_empty((x, y)):\n",
    "                #print(\"Car position (%i, %i)\"%(x,y))\n",
    "                if agent.x<0 or agent.x>=self.grid.width or agent.y<0 or agent.y>=self.grid.height:\n",
    "                    #print(\"Car with (%i, %i) is out of the limits\"%(x,y))\n",
    "                    self.grid.remove_agent(agent)\n",
    "                    self.schedule.remove(agent)\n",
    "                    #print(\"Car with (%i, %i) was deleted\"%(x,y))\n",
    "                \n",
    "    def generateNewCar(self,numCars,generatorTime):\n",
    "        \n",
    "        if( self.currentStep%generatorTime==2):\n",
    "            x=self.lines\n",
    "            random.shuffle(x)\n",
    "            #print(\"New car in %i %i\"%(x,0))\n",
    "            for i in range(numCars):\n",
    "                a = CarAgent(self.newId(), self,x[i] ,0,\"go\",x[i])\n",
    "                self.schedule.add(a)\n",
    "                self.grid.place_agent(a, (x[i], 0))\n",
    "    \n",
    "    def carPositionList(self):\n",
    "        positions=[]\n",
    "        for (agent, x, y) in self.grid.coord_iter():\n",
    "            if not self.grid.is_cell_empty((x, y)):\n",
    "                   positions.append([agent.my_id,x,y])\n",
    "        return positions\n",
    "                \n",
    "\n",
    "    def step(self):\n",
    "        self.datacollector.collect(self)\n",
    "        self.schedule.step()\n",
    "        timeStep=3\n",
    "        self.generateNewCar(self.numCarsGenerated,self.generatorTime)\n",
    "        self.currentStep+=1\n",
    "        self.deleteCarOutLimits()\n",
    "        self.stopCarIncident()\n",
    "        self.time+=1\n",
    "        #self.createBarrier()\n",
    "        \n",
    "    def createBarrier(self):\n",
    "        for x in range(self.grid.width):\n",
    "                a = CarAgent(self.newId(), self,x,int(self.grid.height-2/2),\"stop\",1)\n",
    "                self.grid.place_agent(a, (x,int(self.grid.height-2/2)))\n",
    "                \n",
    "    def stopCarIncident(self):\n",
    "        if(not self.incidentStopCar):\n",
    "            if self.currentStep>=self.startIncident:\n",
    "                lowerLimity=self.grid.height/4\n",
    "                upperLimity=3*self.grid.height/8\n",
    "                for (car, x, y) in self.grid.coord_iter():\n",
    "                    if not self.grid.is_cell_empty((x, y)) and car.y>=lowerLimity and car.y>=upperLimity:\n",
    "                        if(car.x==50):\n",
    "                            car.state=\"stop\"\n",
    "                            self.incidentStopCar=True\n",
    "                            break\n",
    "                        \n",
    "            \n",
    "        \n",
    "        \n",
    "    "
   ]
  },
  {
   "cell_type": "code",
   "execution_count": 6,
   "id": "cb4241f1",
   "metadata": {
    "scrolled": false
   },
   "outputs": [
    {
     "data": {
      "text/plain": [
       "'\\nfor i in range (MAX_GENERATION):\\n    print(\"STEP %i\"%i)\\n    model.step()\\n    '"
      ]
     },
     "execution_count": 6,
     "metadata": {},
     "output_type": "execute_result"
    }
   ],
   "source": [
    "GRID_WIDTH= 100\n",
    "GRID_HIGHT= 200\n",
    "MAX_GENERATION= 5\n",
    "NUM_CARS=1\n",
    "model=highwayModel(NUM_CARS,GRID_WIDTH,GRID_HIGHT)\n",
    "\"\"\"\n",
    "for i in range (MAX_GENERATION):\n",
    "    print(\"STEP %i\"%i)\n",
    "    model.step()\n",
    "    \"\"\"\n",
    "\n",
    "    \n"
   ]
  },
  {
   "cell_type": "code",
   "execution_count": 7,
   "id": "768089c9",
   "metadata": {},
   "outputs": [],
   "source": [
    "all_grid = model.datacollector.get_model_vars_dataframe()"
   ]
  },
  {
   "cell_type": "markdown",
   "id": "0328791d",
   "metadata": {},
   "source": [
    "Graficar la informacion"
   ]
  },
  {
   "cell_type": "code",
   "execution_count": 8,
   "id": "7351aee5",
   "metadata": {},
   "outputs": [
    {
     "data": {
      "text/plain": [
       "[[1, 92, 159]]"
      ]
     },
     "execution_count": 8,
     "metadata": {},
     "output_type": "execute_result"
    }
   ],
   "source": [
    "model.carPositionList()"
   ]
  },
  {
   "cell_type": "code",
   "execution_count": null,
   "id": "f9109f17",
   "metadata": {},
   "outputs": [],
   "source": []
  },
  {
   "cell_type": "code",
   "execution_count": 9,
   "id": "e61989aa",
   "metadata": {},
   "outputs": [],
   "source": [
    "def handleStep():\n",
    "    newList=model.carPositionList()\n",
    "    model.step()\n",
    "    n=model.time\n",
    "    #return {\"time\":n,\"companiesList\":companies, \"state\":\"Mexico\"}\n",
    "    return {\"positionList\":newList, \"step\":n}"
   ]
  },
  {
   "cell_type": "code",
   "execution_count": null,
   "id": "fb46bd7f",
   "metadata": {},
   "outputs": [],
   "source": []
  },
  {
   "cell_type": "code",
   "execution_count": null,
   "id": "8662e05f",
   "metadata": {},
   "outputs": [
    {
     "name": "stdout",
     "output_type": "stream",
     "text": [
      " * Serving Flask app '__main__'\n",
      " * Debug mode: off\n"
     ]
    },
    {
     "name": "stderr",
     "output_type": "stream",
     "text": [
      "WARNING: This is a development server. Do not use it in a production deployment. Use a production WSGI server instead.\n",
      " * Running on http://127.0.0.1:5000\n",
      "Press CTRL+C to quit\n",
      "127.0.0.1 - - [28/Nov/2022 19:13:32] \"GET /position HTTP/1.1\" 200 -\n"
     ]
    },
    {
     "name": "stdout",
     "output_type": "stream",
     "text": [
      "Moving Car 1 from (92,159) to (93,165) velocity= (1,6)\n"
     ]
    },
    {
     "name": "stderr",
     "output_type": "stream",
     "text": [
      "127.0.0.1 - - [28/Nov/2022 19:14:08] \"GET /position HTTP/1.1\" 200 -\n"
     ]
    },
    {
     "name": "stdout",
     "output_type": "stream",
     "text": [
      "Moving Car 1 from (93,165) to (94,171) velocity= (1,6)\n"
     ]
    },
    {
     "name": "stderr",
     "output_type": "stream",
     "text": [
      "127.0.0.1 - - [28/Nov/2022 19:14:14] \"GET /position HTTP/1.1\" 200 -\n"
     ]
    },
    {
     "name": "stdout",
     "output_type": "stream",
     "text": [
      "Moving Car 1 from (94,171) to (95,177) velocity= (1,6)\n"
     ]
    },
    {
     "name": "stderr",
     "output_type": "stream",
     "text": [
      "127.0.0.1 - - [28/Nov/2022 19:14:26] \"GET /position HTTP/1.1\" 200 -\n"
     ]
    },
    {
     "name": "stdout",
     "output_type": "stream",
     "text": [
      "Moving Car 1 from (95,177) to (96,183) velocity= (1,6)\n",
      "Moving Car 2 from (20,0) to (20,6) velocity= (0,6)\n",
      "Moving Car 3 from (80,0) to (80,6) velocity= (0,6)\n"
     ]
    },
    {
     "name": "stderr",
     "output_type": "stream",
     "text": [
      "127.0.0.1 - - [28/Nov/2022 19:14:56] \"GET /position HTTP/1.1\" 200 -\n"
     ]
    },
    {
     "name": "stdout",
     "output_type": "stream",
     "text": [
      "Moving Car 1 from (96,183) to (97,189) velocity= (1,6)\n",
      "Moving Car 2 from (20,6) to (20,12) velocity= (0,6)\n",
      "Moving Car 3 from (80,6) to (80,12) velocity= (0,6)\n"
     ]
    },
    {
     "name": "stderr",
     "output_type": "stream",
     "text": [
      "127.0.0.1 - - [28/Nov/2022 19:15:04] \"GET /position HTTP/1.1\" 200 -\n"
     ]
    },
    {
     "name": "stdout",
     "output_type": "stream",
     "text": [
      "Moving Car 1 from (97,189) to (98,195) velocity= (1,6)\n",
      "Moving Car 2 from (20,12) to (20,18) velocity= (0,6)\n",
      "Moving Car 3 from (80,12) to (80,18) velocity= (0,6)\n"
     ]
    },
    {
     "name": "stderr",
     "output_type": "stream",
     "text": [
      "127.0.0.1 - - [28/Nov/2022 19:15:12] \"GET /position HTTP/1.1\" 200 -\n"
     ]
    },
    {
     "name": "stdout",
     "output_type": "stream",
     "text": [
      "Moving Car 1 from (98,195) to (99,201) velocity= (1,6)\n",
      "Moving Car 2 from (20,18) to (20,24) velocity= (0,6)\n",
      "Moving Car 3 from (80,18) to (80,24) velocity= (0,6)\n"
     ]
    },
    {
     "name": "stderr",
     "output_type": "stream",
     "text": [
      "127.0.0.1 - - [28/Nov/2022 19:15:19] \"GET /position HTTP/1.1\" 200 -\n"
     ]
    },
    {
     "name": "stdout",
     "output_type": "stream",
     "text": [
      "Moving Car 2 from (20,24) to (20,30) velocity= (0,6)\n",
      "Moving Car 3 from (80,24) to (80,30) velocity= (0,6)\n"
     ]
    },
    {
     "name": "stderr",
     "output_type": "stream",
     "text": [
      "127.0.0.1 - - [28/Nov/2022 19:15:28] \"GET /position HTTP/1.1\" 200 -\n"
     ]
    },
    {
     "name": "stdout",
     "output_type": "stream",
     "text": [
      "Moving Car 2 from (20,30) to (20,36) velocity= (0,6)\n",
      "Moving Car 3 from (80,30) to (80,36) velocity= (0,6)\n"
     ]
    },
    {
     "name": "stderr",
     "output_type": "stream",
     "text": [
      "127.0.0.1 - - [28/Nov/2022 19:15:34] \"GET /position HTTP/1.1\" 200 -\n"
     ]
    },
    {
     "name": "stdout",
     "output_type": "stream",
     "text": [
      "Moving Car 2 from (20,36) to (20,42) velocity= (0,6)\n",
      "Moving Car 3 from (80,36) to (80,42) velocity= (0,6)\n"
     ]
    }
   ],
   "source": [
    "api = Flask(__name__)\n",
    "\n",
    "#return json.dumps(\"{ companyList:\"+companies+\"}\")\n",
    "@api.route('/position', methods=['GET'])\n",
    "def get_position():\n",
    "    #return json.dumps(companies)\n",
    "    return json.dumps(handleStep())\n",
    "if __name__ == '__main__':\n",
    "    api.run()"
   ]
  },
  {
   "cell_type": "code",
   "execution_count": null,
   "id": "8e41af57",
   "metadata": {},
   "outputs": [],
   "source": []
  },
  {
   "cell_type": "code",
   "execution_count": null,
   "id": "7038d26f",
   "metadata": {},
   "outputs": [],
   "source": []
  },
  {
   "cell_type": "code",
   "execution_count": null,
   "id": "baeafa74",
   "metadata": {},
   "outputs": [],
   "source": []
  },
  {
   "cell_type": "code",
   "execution_count": null,
   "id": "9bdb8bd9",
   "metadata": {},
   "outputs": [],
   "source": []
  },
  {
   "cell_type": "code",
   "execution_count": null,
   "id": "a2c60969",
   "metadata": {},
   "outputs": [],
   "source": []
  },
  {
   "cell_type": "code",
   "execution_count": null,
   "id": "7cb75573",
   "metadata": {},
   "outputs": [],
   "source": []
  },
  {
   "cell_type": "code",
   "execution_count": null,
   "id": "bdab7ae0",
   "metadata": {},
   "outputs": [],
   "source": []
  },
  {
   "cell_type": "code",
   "execution_count": null,
   "id": "ebd05409",
   "metadata": {},
   "outputs": [],
   "source": []
  },
  {
   "cell_type": "code",
   "execution_count": null,
   "id": "ff134770",
   "metadata": {},
   "outputs": [],
   "source": []
  },
  {
   "cell_type": "code",
   "execution_count": null,
   "id": "20df6a61",
   "metadata": {},
   "outputs": [],
   "source": []
  },
  {
   "cell_type": "code",
   "execution_count": null,
   "id": "939bb8f1",
   "metadata": {},
   "outputs": [],
   "source": []
  },
  {
   "cell_type": "code",
   "execution_count": null,
   "id": "fb34e673",
   "metadata": {},
   "outputs": [],
   "source": []
  }
 ],
 "metadata": {
  "kernelspec": {
   "display_name": "Python 3 (ipykernel)",
   "language": "python",
   "name": "python3"
  },
  "language_info": {
   "codemirror_mode": {
    "name": "ipython",
    "version": 3
   },
   "file_extension": ".py",
   "mimetype": "text/x-python",
   "name": "python",
   "nbconvert_exporter": "python",
   "pygments_lexer": "ipython3",
   "version": "3.9.5"
  }
 },
 "nbformat": 4,
 "nbformat_minor": 5
}
